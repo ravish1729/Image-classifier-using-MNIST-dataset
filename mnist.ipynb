{
 "cells": [
  {
   "cell_type": "code",
   "execution_count": 1,
   "metadata": {},
   "outputs": [],
   "source": [
    "import pandas as pd\n",
    "import numpy as np"
   ]
  },
  {
   "cell_type": "code",
   "execution_count": 2,
   "metadata": {},
   "outputs": [],
   "source": [
    "def one_hot(y_train):\n",
    "    ceal=np.max(y_train)+1\n",
    "    temp=np.zeros([ceal,y_train.shape[1]])\n",
    "    for i in range(y_train.shape[1]):\n",
    "        k=y_train[0][i]                    # k Just another temp variable\n",
    "        temp[k][i]=1\n",
    "    return temp"
   ]
  },
  {
   "cell_type": "code",
   "execution_count": 3,
   "metadata": {},
   "outputs": [],
   "source": [
    "def softmax(z):\n",
    "    return(np.exp(z)/(np.sum(np.exp(z),axis=0))) # axis=0 sum column wise"
   ]
  },
  {
   "cell_type": "code",
   "execution_count": 4,
   "metadata": {},
   "outputs": [],
   "source": [
    "def relu(z):\n",
    "    return(np.maximum(z,0.01*z))"
   ]
  },
  {
   "cell_type": "code",
   "execution_count": 5,
   "metadata": {},
   "outputs": [],
   "source": [
    "def tanh(z):\n",
    "    return((np.exp(z)-np.exp(-z))/(np.exp(z)+np.exp(-z)))"
   ]
  },
  {
   "cell_type": "code",
   "execution_count": 15,
   "metadata": {},
   "outputs": [],
   "source": [
    "def model(no_hd_l, hd_unit, input_size, output_size, initialization=None):\n",
    "    ''' Initialize weights and bias according to type of initialization and no of hidden layers \n",
    "        defined by user\n",
    "        no_hd_l        -- no of hiddel layers\n",
    "        hd_unit        -- list no of units(neuron) in each layer\n",
    "        input_size     -- size of input or the layer 0\n",
    "        output_size    -- size of output layer(last layer) or the number of elements to classify\n",
    "        initialization -- type of initialization i.e. None, He, Xavier\n",
    "        '''\n",
    "    if(len(hd_unit)!=no_hd_l):\n",
    "        raise ValueError('Size of hidden unit list != No of hidden layer')\n",
    "        return\n",
    "    hd_unit=[input_size]+hd_unit\n",
    "    hd_unit=hd_unit+[output_size]\n",
    "    parameters=dict()\n",
    "    \n",
    "    if(initialization is None):\n",
    "        for i in range(1,no_hd_l+2):\n",
    "            parameters['W'+str(i)]=np.random.randn(hd_unit[i],hd_unit[i-1])\n",
    "            parameters['b'+str(i)]=np.zeros([hd_unit[i],1])\n",
    "        \n",
    "    if(initialization is 'He'):\n",
    "        for i in range(1,no_hd_l+2):\n",
    "            parameters['W'+str(i)]=np.random.randn(hd_unit[i],hd_unit[i-1])*np.sqrt(2/hd_unit[i-1])\n",
    "            parameters['b'+str(i)]=np.zeros([hd_unit[i],1])\n",
    "        \n",
    "    if(initialization is 'Xavier'):\n",
    "        for i in range(1,no_hd_l+2):\n",
    "            parameters['W'+str(i)]=np.random.randn(hd_unit[i],hd_unit[i-1])*np.sqrt(1/hd_unit[i-1])\n",
    "            parameters['b'+str(i)]=np.zeros([hd_unit[i],1])\n",
    "    return(parameters)"
   ]
  },
  {
   "cell_type": "code",
   "execution_count": 27,
   "metadata": {},
   "outputs": [],
   "source": [
    "def feed_forward(parameters, X_train, no_hd_l, activation):\n",
    "    ''' Forward Propogation\n",
    "        parameters -- returned by model function\n",
    "        X_train    -- training data\n",
    "        no_hd_l    -- no of hidden layer\n",
    "        activation -- activation for hidden layers i.e. sigmoid or tanh or relu\n",
    "    '''\n",
    "    cache1=dict()\n",
    "    if(activation is 'relu'):\n",
    "        cache1['Z1']=np.matmul(parameters['W1'],X_train)+parameters['b1']\n",
    "        cache1['A1']=relu(cache1['Z1'])\n",
    "        for i in range(2,no_hd_l+1):\n",
    "            cache1['Z'+str(i)]=np.matmul(parameters['W'+str(i)],cache1['A'+str(i-1)])+parameters['b'+str(i)]\n",
    "            cache1['A'+str(i)]=relu(cache1['Z'+str(i)])\n",
    "    \n",
    "    if(activation is 'sigmoid'):\n",
    "        cache1['Z1']=np.matmul(parameters['W1'],X_train)+parameters['b1']\n",
    "        cache1['A1']=sigmoid(cache1['Z1'])\n",
    "        for i in range(2,no_hd_l+1):\n",
    "            cache1['Z'+str(i)]=np.matmul(parameters['W'+str(i)],cache1['A'+str(i-1)])+parameters['b'+str(i)]\n",
    "            cache1['A'+str(i)]=sigmoid(cache1['Z'+str(i)])\n",
    "    \n",
    "    if(activation is 'tanh'):\n",
    "        cache1['Z1']=np.matmul(parameters['W1'],X_train)+parameters['b1']\n",
    "        cache1['A1']=tanh(cache1['Z1'])\n",
    "        for i in range(2,no_hd_l+1):\n",
    "            cache1['Z'+str(i)]=np.matmul(parameters['W'+str(i)],cache1['A'+str(i-1)])+parameters['b'+str(i)]\n",
    "            cache1['A'+str(i)]=tanh(cache1['Z'+str(i)])\n",
    "        \n",
    "    cache1['Z'+str(no_hd_l+1)]=np.matmul(parameters['W'+str(no_hd_l+1)],cache1['A'+str(no_hd_l+1-1)])+parameters['b'+str(no_hd_l+1)]\n",
    "    cache1['A'+str(no_hd_l+1)]=softmax(cache1['Z'+str(no_hd_l+1)])\n",
    "    return(cache1)"
   ]
  },
  {
   "cell_type": "code",
   "execution_count": 217,
   "metadata": {},
   "outputs": [],
   "source": [
    "def cost(A,y,m):\n",
    "    cost=-np.sum(y*np.log(A))/m\n",
    "    return(cost)"
   ]
  },
  {
   "cell_type": "code",
   "execution_count": 223,
   "metadata": {},
   "outputs": [],
   "source": [
    "def back_prop(parameters, cache1, X_train, y_train, no_hd_l, activation, learning_rate):\n",
    "    ''' Backward Propogation '''\n",
    "    cache2={}\n",
    "    cache2['dZ'+str(no_hd_l+1)]=cache1['A'+str(no_hd_l+1)]-y_train\n",
    "    cache2['dW'+str(no_hd_l+1)]=np.matmul(cache2['dZ'+str(no_hd_l+1)],cache1['A'+str(no_hd_l)].T)\n",
    "    cache2['db'+str(no_hd_l+1)]=cache2['dZ'+str(no_hd_l+1)]\n",
    "    i=no_hd_l\n",
    "    if(activation is 'relu'):\n",
    "        while(i>1):\n",
    "            cache2['dZ'+str(i)]=np.matmul(parameters['W'+str(i+1)].T,cache2['dZ'+str(i+1)])\n",
    "            cache2['dW'+str(i)]=np.matmul(cache2['dZ'+str(i)],cache1['A'+str(i-1)].T)\n",
    "            cache2['db'+str(i)]=cache2['dZ'+str(i)]\n",
    "            print(cache2['dW'+str(i)])\n",
    "            i=i-1\n",
    "        cache2['dZ1']=np.matmul(parameters['W'+str(i+1)].T,cache2['dZ'+str(i+1)])\n",
    "        cache2['dW1']=np.matmul(cache2['dZ'+str(i)],X_train.T)\n",
    "        cache2['db1']=cache2['dZ'+str(i)]\n",
    "        print(cache2['dW1'])\n",
    "    if(activation is 'sigmoid'):\n",
    "        while(i>1):\n",
    "            cache2['dZ'+str(i)]=np.matmul(parameters['W'+str(i+1)].T,cache2['dZ'+str(i+1)])\n",
    "            cache2['dW'+str(i)]=np.matmul(cache2['dZ'+str(i)],cache1['A'+str(i-1)].T)\n",
    "            cache2['db'+str(i)]=cache2['dZ'+str(i)]\n",
    "            i=i-1\n",
    "        cache2['dZ1']=np.matmul(parameters['W'+str(i+1)].T,cache2['dZ'+str(i+1)])\n",
    "        cache2['dW1']=np.matmul(cache2['dZ'+str(i)],X_train.T)\n",
    "        cache2['db1']=cache2['dZ'+str(i)]\n",
    "    if(activation is 'tanh'):\n",
    "        while(i>1):\n",
    "            cache2['dZ'+str(i)]=np.matmul(parameters['W'+str(i+1)].T,cache2['dZ'+str(i+1)])\n",
    "            cache2['dW'+str(i)]=np.matmul(cache2['dZ'+str(i)],cache1['A'+str(i-1)].T)\n",
    "            cache2['db'+str(i)]=cache2['dZ'+str(i)]\n",
    "            i=i-1\n",
    "        cache2['dZ1']=np.matmul(parameters['W'+str(i+1)].T,cache2['dZ'+str(i+1)])\n",
    "        cache2['dW1']=np.matmul(cache2['dZ'+str(i)],X_train.T)\n",
    "        cache2['db1']=cache2['dZ'+str(i)]\n",
    "        \n",
    "    for i in range(1,no_hd_l+2):\n",
    "        parameters[\"W\"+str(i)]=parameters[\"W\"+str(i)]-(learning_rate*cache2[\"dW\"+str(i)])\n",
    "        parameters[\"b\"+str(i)]=parameters[\"b\"+str(i)]-(learning_rate*cache2[\"db\"+str(i)])\n",
    "    return(parameters)"
   ]
  },
  {
   "cell_type": "code",
   "execution_count": 12,
   "metadata": {},
   "outputs": [],
   "source": [
    "df=pd.read_csv(\"MNIST dataset/train.csv\")"
   ]
  },
  {
   "cell_type": "code",
   "execution_count": 13,
   "metadata": {},
   "outputs": [],
   "source": [
    "X_train=np.array(df.iloc[:,1:]).T\n",
    "y_train=np.array(df.iloc[:,0])\n",
    "y_train=y_train.reshape(1,y_train.shape[0])\n",
    "y_train=one_hot(y_train) #one hot\n",
    "del df"
   ]
  },
  {
   "cell_type": "code",
   "execution_count": 179,
   "metadata": {},
   "outputs": [],
   "source": [
    "variance=np.var(X_train,axis=0)\n",
    "X_train=X_train/variance"
   ]
  },
  {
   "cell_type": "code",
   "execution_count": 208,
   "metadata": {},
   "outputs": [],
   "source": [
    "parameters=model(no_hd_l=2,hd_unit=[100,50],input_size=X_train.shape[0],output_size=10,initialization='Xavier')"
   ]
  },
  {
   "cell_type": "code",
   "execution_count": 188,
   "metadata": {},
   "outputs": [
    {
     "name": "stdout",
     "output_type": "stream",
     "text": [
      "(100, 784) (50, 100) (10, 50)\n",
      "(100, 1) (50, 1) (10, 1)\n"
     ]
    }
   ],
   "source": [
    "print(parameters['W1'].shape,parameters['W2'].shape,parameters['W3'].shape)\n",
    "print(parameters['b1'].shape,parameters['b2'].shape,parameters['b3'].shape)"
   ]
  },
  {
   "cell_type": "code",
   "execution_count": 224,
   "metadata": {},
   "outputs": [
    {
     "name": "stderr",
     "output_type": "stream",
     "text": [
      "/usr/local/lib/python3.5/dist-packages/ipykernel_launcher.py:2: RuntimeWarning: overflow encountered in exp\n",
      "  \n",
      "/usr/local/lib/python3.5/dist-packages/ipykernel_launcher.py:2: RuntimeWarning: invalid value encountered in true_divide\n",
      "  \n"
     ]
    }
   ],
   "source": [
    "cache1=feed_forward(parameters, X_train, 2, 'relu')"
   ]
  },
  {
   "cell_type": "code",
   "execution_count": 202,
   "metadata": {},
   "outputs": [
    {
     "data": {
      "text/plain": [
       "(100, 42000)"
      ]
     },
     "execution_count": 202,
     "metadata": {},
     "output_type": "execute_result"
    }
   ],
   "source": [
    "cache1['A1'].shape"
   ]
  },
  {
   "cell_type": "code",
   "execution_count": 210,
   "metadata": {},
   "outputs": [
    {
     "data": {
      "text/plain": [
       "array([[ 0.09761707, -0.89583495,  0.10295436, ...,  0.09607144,\n",
       "         0.09015782,  0.09748485],\n",
       "       [-0.90248465,  0.15552058, -0.90025618, ...,  0.11377213,\n",
       "         0.10697278,  0.08902587],\n",
       "       [ 0.09794075,  0.071321  ,  0.124615  , ...,  0.12276843,\n",
       "         0.12083721,  0.09718971],\n",
       "       ..., \n",
       "       [ 0.09433232,  0.10875992,  0.08703732, ..., -0.90095795,\n",
       "         0.09816657,  0.11126737],\n",
       "       [ 0.09916331,  0.07892783,  0.07898304, ...,  0.06887466,\n",
       "         0.08596704,  0.08906917],\n",
       "       [ 0.1086009 ,  0.10826972,  0.1052852 , ...,  0.09333673,\n",
       "         0.09132574, -0.90457609]])"
      ]
     },
     "execution_count": 210,
     "metadata": {},
     "output_type": "execute_result"
    }
   ],
   "source": [
    "cache1['A'+str(2+1)]-y_train"
   ]
  },
  {
   "cell_type": "code",
   "execution_count": 211,
   "metadata": {},
   "outputs": [
    {
     "data": {
      "text/plain": [
       "array([ 0.1086009 ,  0.15552058,  0.124615  , ...,  0.12276843,\n",
       "        0.12083721,  0.11362216])"
      ]
     },
     "execution_count": 211,
     "metadata": {},
     "output_type": "execute_result"
    }
   ],
   "source": [
    "np.max(cache1['A3'],axis=0)"
   ]
  },
  {
   "cell_type": "code",
   "execution_count": 222,
   "metadata": {},
   "outputs": [
    {
     "name": "stderr",
     "output_type": "stream",
     "text": [
      "/usr/local/lib/python3.5/dist-packages/ipykernel_launcher.py:2: RuntimeWarning: divide by zero encountered in log\n",
      "  \n",
      "/usr/local/lib/python3.5/dist-packages/ipykernel_launcher.py:2: RuntimeWarning: invalid value encountered in multiply\n",
      "  \n"
     ]
    },
    {
     "data": {
      "text/plain": [
       "nan"
      ]
     },
     "execution_count": 222,
     "metadata": {},
     "output_type": "execute_result"
    }
   ],
   "source": [
    "cost(cache1['A'+str(3)],y_train,42000)"
   ]
  },
  {
   "cell_type": "code",
   "execution_count": 219,
   "metadata": {},
   "outputs": [
    {
     "name": "stdout",
     "output_type": "stream",
     "text": [
      "[[  9.41325386e-05   3.89644348e-05   2.47545432e-04 ...,  -3.01905767e-06\n",
      "    7.41618089e-05   3.35246847e-05]\n",
      " [  1.36634987e-04   5.90202384e-05   3.72366392e-04 ...,  -4.50011952e-06\n",
      "    1.01956085e-04   5.03466763e-05]\n",
      " [  4.49374890e-05   1.92200834e-05   1.10373256e-04 ...,  -1.61419821e-06\n",
      "    3.10709421e-05   1.62680470e-05]\n",
      " ..., \n",
      " [  5.00119856e-04   2.12889721e-04   1.29194110e-03 ...,  -1.72657460e-05\n",
      "    3.73616516e-04   1.79905999e-04]\n",
      " [  1.12159001e-04   4.70710973e-05   3.03351076e-04 ...,  -3.56791286e-06\n",
      "    8.43443920e-05   4.17232936e-05]\n",
      " [  6.83041212e-05   2.87278556e-05   1.66548320e-04 ...,  -2.44073118e-06\n",
      "    5.04824461e-05   2.43346567e-05]]\n",
      "[[-0. -0. -0. ..., -0. -0. -0.]\n",
      " [-0. -0. -0. ..., -0. -0. -0.]\n",
      " [-0. -0. -0. ..., -0. -0. -0.]\n",
      " ..., \n",
      " [-0. -0. -0. ..., -0. -0. -0.]\n",
      " [-0. -0. -0. ..., -0. -0. -0.]\n",
      " [-0. -0. -0. ..., -0. -0. -0.]]\n"
     ]
    }
   ],
   "source": [
    "parameters=back_prop(parameters, cache1, X_train, y_train, 2, 'relu', 0.02)"
   ]
  },
  {
   "cell_type": "code",
   "execution_count": null,
   "metadata": {},
   "outputs": [],
   "source": []
  }
 ],
 "metadata": {
  "kernelspec": {
   "display_name": "Python 3",
   "language": "python",
   "name": "python3"
  },
  "language_info": {
   "codemirror_mode": {
    "name": "ipython",
    "version": 3
   },
   "file_extension": ".py",
   "mimetype": "text/x-python",
   "name": "python",
   "nbconvert_exporter": "python",
   "pygments_lexer": "ipython3",
   "version": "3.5.2"
  }
 },
 "nbformat": 4,
 "nbformat_minor": 2
}
