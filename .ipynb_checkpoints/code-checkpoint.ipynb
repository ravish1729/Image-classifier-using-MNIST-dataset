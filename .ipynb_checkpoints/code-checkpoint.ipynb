{
 "cells": [
  {
   "cell_type": "code",
   "execution_count": 2,
   "metadata": {},
   "outputs": [],
   "source": [
    "import pandas as pd\n",
    "import numpy as np"
   ]
  },
  {
   "cell_type": "code",
   "execution_count": 3,
   "metadata": {},
   "outputs": [],
   "source": [
    "def one_hot(y_train):\n",
    "    max_y=np.max(y_train)+1\n",
    "    temp=np.zeros([max_y,y_train.shape[1]])\n",
    "    for i in range(y_train.shape[1]):\n",
    "        k=y_train[0][i]                    # k Just another temp variable\n",
    "        temp[k][i]=1\n",
    "    return temp"
   ]
  },
  {
   "cell_type": "code",
   "execution_count": 57,
   "metadata": {},
   "outputs": [],
   "source": [
    "def softmax(z):\n",
    "    z_norm=np.exp(z-np.max(z,axis=0))\n",
    "    return(np.divide(z_norm,np.sum(z_norm,axis=0)))"
   ]
  },
  {
   "cell_type": "code",
   "execution_count": 5,
   "metadata": {},
   "outputs": [],
   "source": [
    "def relu(z):\n",
    "    return(np.maximum(z,0.0))"
   ]
  },
  {
   "cell_type": "code",
   "execution_count": 6,
   "metadata": {},
   "outputs": [],
   "source": [
    "def sigmoid(z):\n",
    "    return(1.0/(1.0+np.exp(-z)))"
   ]
  },
  {
   "cell_type": "code",
   "execution_count": 7,
   "metadata": {},
   "outputs": [],
   "source": [
    "def tanh(z):\n",
    "    return(np.tanh(Z))"
   ]
  },
  {
   "cell_type": "code",
   "execution_count": 8,
   "metadata": {},
   "outputs": [],
   "source": [
    "def model(no_hd_l, hd_unit, input_size, output_size, initialization=None):\n",
    "    ''' Initialize weights and bias according to type of initialization and no of hidden layers \n",
    "        defined by user\n",
    "        no_hd_l        -- no of hiddel layers\n",
    "        hd_unit        -- list no of units(neuron) in each layer\n",
    "        input_size     -- size of input or the layer 0\n",
    "        output_size    -- size of output layer(last layer) or the number of elements to classify\n",
    "        initialization -- type of initialization i.e. None, He, Xavier\n",
    "        '''\n",
    "    \n",
    "    if(len(hd_unit)!=no_hd_l):\n",
    "        raise ValueError('Size of hidden unit list != No of hidden layer')\n",
    "        return\n",
    "    \n",
    "    hd_unit=[input_size]+hd_unit\n",
    "    hd_unit=hd_unit+[output_size]\n",
    "    parameters=dict()\n",
    "    \n",
    "    if(initialization is None):\n",
    "        for i in range(1,no_hd_l+2):\n",
    "            parameters['W'+str(i)]=np.random.randn(hd_unit[i],hd_unit[i-1])\n",
    "            parameters['b'+str(i)]=np.zeros((hd_unit[i],1))\n",
    "        \n",
    "    if(initialization is 'He'):\n",
    "        for i in range(1,no_hd_l+2):\n",
    "            parameters['W'+str(i)]=np.random.randn(hd_unit[i],hd_unit[i-1])*np.sqrt(2/hd_unit[i-1])\n",
    "            parameters['b'+str(i)]=np.zeros((hd_unit[i],1))\n",
    "        \n",
    "    if(initialization is 'Xavier'):\n",
    "        for i in range(1,no_hd_l+2):\n",
    "            parameters['W'+str(i)]=np.random.randn(hd_unit[i],hd_unit[i-1])*np.sqrt(1/hd_unit[i-1])\n",
    "            parameters['b'+str(i)]=np.zeros((hd_unit[i],1))\n",
    "    return(parameters)"
   ]
  },
  {
   "cell_type": "code",
   "execution_count": 9,
   "metadata": {},
   "outputs": [],
   "source": [
    "def feed_forward(parameters, X_train, no_hd_l, activation):\n",
    "    ''' Forward Propogation\n",
    "        parameters -- returned by model function\n",
    "        X_train    -- training data\n",
    "        no_hd_l    -- no of hidden layer\n",
    "        activation -- activation for hidden layers i.e. sigmoid or tanh or relu\n",
    "    '''\n",
    "    cache1=dict()\n",
    "    if(activation is 'relu'):\n",
    "        cache1['Z1']=np.matmul(parameters['W1'],X_train)+parameters['b1']\n",
    "        cache1['A1']=relu(cache1['Z1'])\n",
    "        for i in range(2,no_hd_l+1):\n",
    "            cache1['Z'+str(i)]=np.matmul(parameters['W'+str(i)],cache1['A'+str(i-1)])+parameters['b'+str(i)]\n",
    "            cache1['A'+str(i)]=relu(cache1['Z'+str(i)])\n",
    "    \n",
    "    if(activation is 'sigmoid'):\n",
    "        cache1['Z1']=np.matmul(parameters['W1'],X_train)+parameters['b1']\n",
    "        cache1['A1']=sigmoid(cache1['Z1'])\n",
    "        for i in range(2,no_hd_l+1):\n",
    "            cache1['Z'+str(i)]=np.matmul(parameters['W'+str(i)],cache1['A'+str(i-1)])+parameters['b'+str(i)]\n",
    "            cache1['A'+str(i)]=sigmoid(cache1['Z'+str(i)])\n",
    "    \n",
    "    if(activation is 'tanh'):\n",
    "        cache1['Z1']=np.matmul(parameters['W1'],X_train)+parameters['b1']\n",
    "        cache1['A1']=tanh(cache1['Z1'])\n",
    "        for i in range(2,no_hd_l+1):\n",
    "            cache1['Z'+str(i)]=np.matmul(parameters['W'+str(i)],cache1['A'+str(i-1)])+parameters['b'+str(i)]\n",
    "            cache1['A'+str(i)]=tanh(cache1['Z'+str(i)])\n",
    "    \n",
    "    cache1['Z'+str(no_hd_l+1)]=np.matmul(parameters['W'+str(no_hd_l+1)],cache1['A'+str(no_hd_l)])+parameters['b'+str(no_hd_l+1)]\n",
    "    cache1['A'+str(no_hd_l+1)]=softmax(cache1['Z'+str(no_hd_l+1)])\n",
    "    return(cache1)"
   ]
  },
  {
   "cell_type": "code",
   "execution_count": 11,
   "metadata": {},
   "outputs": [],
   "source": [
    "def cost(A,y,m):\n",
    "    #A = np.clip(A, 1e-10, 1 - 1e-10)\n",
    "    \n",
    "    cost= -np.sum(y*np.log(A))/m\n",
    "    return(cost)"
   ]
  },
  {
   "cell_type": "code",
   "execution_count": 58,
   "metadata": {},
   "outputs": [],
   "source": [
    "def cost(Z,y,m):\n",
    "    z_norm=Z-np.max(Z,axis=0)\n",
    "    cost=-np.sum( y * (z_norm-np.log(np.sum(np.exp(z_norm),axis=0))))\n",
    "    return(cost/m)"
   ]
  },
  {
   "cell_type": "code",
   "execution_count": 59,
   "metadata": {},
   "outputs": [],
   "source": [
    "def back_prop(parameters, cache1, X_train, y_train, no_hd_l, activation, learning_rate, m):\n",
    "    ''' Backward Propogation \n",
    "        parameters     -- returned by model\n",
    "        cache1         -- returned by feed_forward\n",
    "        X_train        -- training data\n",
    "        y_train        -- labels of training data one-hot encoded\n",
    "        no_hd_l        -- scalar, no of hidden layers\n",
    "        activation     -- String, type of activation function used in hidden layers i.e. relu or sigmoid or tanh\n",
    "        learning_rate  -- Scalar, learning rate\n",
    "    '''\n",
    "    \n",
    "    cache2={}\n",
    "    cache2['dZ'+str(no_hd_l+1)]=(cache1['A'+str(no_hd_l+1)]-y_train)\n",
    "    cache2['dW'+str(no_hd_l+1)]=np.matmul(cache2['dZ'+str(no_hd_l+1)],cache1['A'+str(no_hd_l)].T)\n",
    "    cache2['db'+str(no_hd_l+1)]=cache2['dZ'+str(no_hd_l+1)]\n",
    "    i=no_hd_l\n",
    "    \n",
    "    if(activation is 'relu'):\n",
    "        while(i>1):\n",
    "            cache2['dZ'+str(i)]=np.matmul(parameters['W'+str(i+1)].T,cache2['dZ'+str(i+1)])\n",
    "            cache2['dW'+str(i)]=np.matmul(cache2['dZ'+str(i)],cache1['A'+str(i-1)].T)\n",
    "            cache2['db'+str(i)]=cache2['dZ'+str(i)]\n",
    "            i=i-1\n",
    "        cache2['dZ1']=np.matmul(parameters['W'+str(i+1)].T,cache2['dZ'+str(i+1)])\n",
    "        cache2['dW1']=np.matmul(cache2['dZ'+str(i)],X_train.T)\n",
    "        cache2['db1']=cache2['dZ'+str(i)]\n",
    "        \n",
    "    if(activation is 'sigmoid'):\n",
    "        while(i>1):\n",
    "            cache2['dZ'+str(i)]=np.matmul(parameters['W'+str(i+1)].T,cache2['dZ'+str(i+1)])*(cache1['A'+str(i)]*np.square(cache1['A'+str(i)]))\n",
    "            cache2['dW'+str(i)]=np.matmul(cache2['dZ'+str(i)],cache1['A'+str(i-1)].T)\n",
    "            cache2['db'+str(i)]=cache2['dZ'+str(i)]\n",
    "            i=i-1\n",
    "        cache2['dZ1']=np.matmul(parameters['W'+str(i+1)].T,cache2['dZ'+str(i+1)])*(cache1['A1']*np.square(cache1['A1']))\n",
    "        cache2['dW1']=np.matmul(cache2['dZ'+str(i)],X_train.T)\n",
    "        cache2['db1']=cache2['dZ'+str(i)]\n",
    "        \n",
    "    if(activation is 'tanh'):\n",
    "        while(i>1):\n",
    "            cache2['dZ'+str(i)]=np.matmul(parameters['W'+str(i+1)].T,cache2['dZ'+str(i+1)])*(1-np.square(cache1['A'+str(i)]))\n",
    "            cache2['dW'+str(i)]=np.matmul(cache2['dZ'+str(i)],cache1['A'+str(i-1)].T)\n",
    "            cache2['db'+str(i)]=cache2['dZ'+str(i)]\n",
    "            i=i-1\n",
    "        cache2['dZ1']=np.matmul(parameters['W'+str(i+1)].T,cache2['dZ'+str(i+1)])*(1-np.square(cache1['A1']))\n",
    "        cache2['dW1']=np.matmul(cache2['dZ'+str(i)],X_train.T)\n",
    "        cache2['db1']=cache2['dZ'+str(i)]\n",
    "        \n",
    "    for i in range(1,no_hd_l+2):\n",
    "        parameters[\"W\"+str(i)]=parameters[\"W\"+str(i)]-(learning_rate*cache2[\"dW\"+str(i)])\n",
    "        parameters[\"b\"+str(i)]=parameters[\"b\"+str(i)]-(learning_rate*cache2[\"db\"+str(i)])\n",
    "    return(parameters)"
   ]
  },
  {
   "cell_type": "code",
   "execution_count": 60,
   "metadata": {},
   "outputs": [],
   "source": [
    "def data():\n",
    "    df=pd.read_csv(\"MNIST dataset/train.csv\")\n",
    "    X_train=np.array(df.iloc[:,1:]).T\n",
    "    y_train=np.array(df.iloc[:,0])\n",
    "    y_train=y_train.reshape(1,y_train.shape[0])\n",
    "    y_train=one_hot(y_train) #one hot\n",
    "    del df\n",
    "    X_train=X_train/np.max(X_train)\n",
    "    m=X_train.shape[1]\n",
    "    return((X_train, y_train, m))"
   ]
  },
  {
   "cell_type": "code",
   "execution_count": 61,
   "metadata": {},
   "outputs": [],
   "source": [
    "def train(no_hd_l, hd_unit, initialization, activation, learning_rate):\n",
    "    # Data\n",
    "    X_train, y_train, m = data()\n",
    "    print('No of training example {}'.format(m))\n",
    "    print('X_train(data) {}'.format(X_train.shape))\n",
    "    print('y_train(labels) {}'.format(y_train.shape))\n",
    "    print('max and min value of data {} {}'.format(np.max(X_train),np.min(X_train)))\n",
    "    print()\n",
    "    \n",
    "    # Initialize Parameters\n",
    "    parameters=model(no_hd_l, hd_unit, input_size=X_train.shape[0],output_size=10,initialization=None)\n",
    "    \n",
    "    for i in range(20):\n",
    "        cache1=feed_forward(parameters, X_train, no_hd_l, activation)\n",
    "        print(cost(cache1['A'+str(no_hd_l+1)], y_train, m))\n",
    "        back_prop(parameters, cache1, X_train, y_train, no_hd_l, activation, learning_rate,m)\n",
    "    return(parameters)"
   ]
  },
  {
   "cell_type": "code",
   "execution_count": 62,
   "metadata": {
    "scrolled": true
   },
   "outputs": [
    {
     "name": "stdout",
     "output_type": "stream",
     "text": [
      "No of training example 42000\n",
      "X_train(data) (784, 42000)\n",
      "y_train(labels) (10, 42000)\n",
      "max and min value of data 1.0 0.0\n",
      "\n",
      "2.3648734966007883\n",
      "2.317200836112716\n",
      "2.3595396085666525\n",
      "2.3563644574487608\n",
      "2.370793028877332\n",
      "2.361697790782094\n",
      "2.3563644574487608\n",
      "2.36441207649638\n",
      "2.3496263622106652\n",
      "2.3025831760948505\n",
      "2.3563644574487608\n"
     ]
    },
    {
     "name": "stderr",
     "output_type": "stream",
     "text": [
      "/usr/local/lib/python3.6/dist-packages/ipykernel_launcher.py:2: RuntimeWarning: invalid value encountered in subtract\n",
      "  \n"
     ]
    },
    {
     "name": "stdout",
     "output_type": "stream",
     "text": [
      "nan\n",
      "nan\n"
     ]
    },
    {
     "ename": "KeyboardInterrupt",
     "evalue": "",
     "output_type": "error",
     "traceback": [
      "\u001b[0;31m---------------------------------------------------------------------------\u001b[0m",
      "\u001b[0;31mKeyboardInterrupt\u001b[0m                         Traceback (most recent call last)",
      "\u001b[0;32m<ipython-input-62-e9f389a4c9ee>\u001b[0m in \u001b[0;36m<module>\u001b[0;34m()\u001b[0m\n\u001b[0;32m----> 1\u001b[0;31m \u001b[0mparameters\u001b[0m\u001b[0;34m=\u001b[0m\u001b[0mtrain\u001b[0m\u001b[0;34m(\u001b[0m\u001b[0;36m2\u001b[0m\u001b[0;34m,\u001b[0m \u001b[0;34m[\u001b[0m\u001b[0;36m100\u001b[0m\u001b[0;34m,\u001b[0m\u001b[0;36m50\u001b[0m\u001b[0;34m]\u001b[0m\u001b[0;34m,\u001b[0m \u001b[0;34m'He'\u001b[0m\u001b[0;34m,\u001b[0m \u001b[0;34m'relu'\u001b[0m\u001b[0;34m,\u001b[0m \u001b[0;36m0.1\u001b[0m\u001b[0;34m)\u001b[0m\u001b[0;34m\u001b[0m\u001b[0m\n\u001b[0m",
      "\u001b[0;32m<ipython-input-61-32d49cb4ace5>\u001b[0m in \u001b[0;36mtrain\u001b[0;34m(no_hd_l, hd_unit, initialization, activation, learning_rate)\u001b[0m\n\u001b[1;32m     14\u001b[0m         \u001b[0mcache1\u001b[0m\u001b[0;34m=\u001b[0m\u001b[0mfeed_forward\u001b[0m\u001b[0;34m(\u001b[0m\u001b[0mparameters\u001b[0m\u001b[0;34m,\u001b[0m \u001b[0mX_train\u001b[0m\u001b[0;34m,\u001b[0m \u001b[0mno_hd_l\u001b[0m\u001b[0;34m,\u001b[0m \u001b[0mactivation\u001b[0m\u001b[0;34m)\u001b[0m\u001b[0;34m\u001b[0m\u001b[0m\n\u001b[1;32m     15\u001b[0m         \u001b[0mprint\u001b[0m\u001b[0;34m(\u001b[0m\u001b[0mcost\u001b[0m\u001b[0;34m(\u001b[0m\u001b[0mcache1\u001b[0m\u001b[0;34m[\u001b[0m\u001b[0;34m'A'\u001b[0m\u001b[0;34m+\u001b[0m\u001b[0mstr\u001b[0m\u001b[0;34m(\u001b[0m\u001b[0mno_hd_l\u001b[0m\u001b[0;34m+\u001b[0m\u001b[0;36m1\u001b[0m\u001b[0;34m)\u001b[0m\u001b[0;34m]\u001b[0m\u001b[0;34m,\u001b[0m \u001b[0my_train\u001b[0m\u001b[0;34m,\u001b[0m \u001b[0mm\u001b[0m\u001b[0;34m)\u001b[0m\u001b[0;34m)\u001b[0m\u001b[0;34m\u001b[0m\u001b[0m\n\u001b[0;32m---> 16\u001b[0;31m         \u001b[0mback_prop\u001b[0m\u001b[0;34m(\u001b[0m\u001b[0mparameters\u001b[0m\u001b[0;34m,\u001b[0m \u001b[0mcache1\u001b[0m\u001b[0;34m,\u001b[0m \u001b[0mX_train\u001b[0m\u001b[0;34m,\u001b[0m \u001b[0my_train\u001b[0m\u001b[0;34m,\u001b[0m \u001b[0mno_hd_l\u001b[0m\u001b[0;34m,\u001b[0m \u001b[0mactivation\u001b[0m\u001b[0;34m,\u001b[0m \u001b[0mlearning_rate\u001b[0m\u001b[0;34m,\u001b[0m\u001b[0mm\u001b[0m\u001b[0;34m)\u001b[0m\u001b[0;34m\u001b[0m\u001b[0m\n\u001b[0m\u001b[1;32m     17\u001b[0m     \u001b[0;32mreturn\u001b[0m\u001b[0;34m(\u001b[0m\u001b[0mparameters\u001b[0m\u001b[0;34m)\u001b[0m\u001b[0;34m\u001b[0m\u001b[0m\n",
      "\u001b[0;32m<ipython-input-59-8079fa542931>\u001b[0m in \u001b[0;36mback_prop\u001b[0;34m(parameters, cache1, X_train, y_train, no_hd_l, activation, learning_rate, m)\u001b[0m\n\u001b[1;32m     23\u001b[0m             \u001b[0mi\u001b[0m\u001b[0;34m=\u001b[0m\u001b[0mi\u001b[0m\u001b[0;34m-\u001b[0m\u001b[0;36m1\u001b[0m\u001b[0;34m\u001b[0m\u001b[0m\n\u001b[1;32m     24\u001b[0m         \u001b[0mcache2\u001b[0m\u001b[0;34m[\u001b[0m\u001b[0;34m'dZ1'\u001b[0m\u001b[0;34m]\u001b[0m\u001b[0;34m=\u001b[0m\u001b[0mnp\u001b[0m\u001b[0;34m.\u001b[0m\u001b[0mmatmul\u001b[0m\u001b[0;34m(\u001b[0m\u001b[0mparameters\u001b[0m\u001b[0;34m[\u001b[0m\u001b[0;34m'W'\u001b[0m\u001b[0;34m+\u001b[0m\u001b[0mstr\u001b[0m\u001b[0;34m(\u001b[0m\u001b[0mi\u001b[0m\u001b[0;34m+\u001b[0m\u001b[0;36m1\u001b[0m\u001b[0;34m)\u001b[0m\u001b[0;34m]\u001b[0m\u001b[0;34m.\u001b[0m\u001b[0mT\u001b[0m\u001b[0;34m,\u001b[0m\u001b[0mcache2\u001b[0m\u001b[0;34m[\u001b[0m\u001b[0;34m'dZ'\u001b[0m\u001b[0;34m+\u001b[0m\u001b[0mstr\u001b[0m\u001b[0;34m(\u001b[0m\u001b[0mi\u001b[0m\u001b[0;34m+\u001b[0m\u001b[0;36m1\u001b[0m\u001b[0;34m)\u001b[0m\u001b[0;34m]\u001b[0m\u001b[0;34m)\u001b[0m\u001b[0;34m\u001b[0m\u001b[0m\n\u001b[0;32m---> 25\u001b[0;31m         \u001b[0mcache2\u001b[0m\u001b[0;34m[\u001b[0m\u001b[0;34m'dW1'\u001b[0m\u001b[0;34m]\u001b[0m\u001b[0;34m=\u001b[0m\u001b[0mnp\u001b[0m\u001b[0;34m.\u001b[0m\u001b[0mmatmul\u001b[0m\u001b[0;34m(\u001b[0m\u001b[0mcache2\u001b[0m\u001b[0;34m[\u001b[0m\u001b[0;34m'dZ'\u001b[0m\u001b[0;34m+\u001b[0m\u001b[0mstr\u001b[0m\u001b[0;34m(\u001b[0m\u001b[0mi\u001b[0m\u001b[0;34m)\u001b[0m\u001b[0;34m]\u001b[0m\u001b[0;34m,\u001b[0m\u001b[0mX_train\u001b[0m\u001b[0;34m.\u001b[0m\u001b[0mT\u001b[0m\u001b[0;34m)\u001b[0m\u001b[0;34m\u001b[0m\u001b[0m\n\u001b[0m\u001b[1;32m     26\u001b[0m         \u001b[0mcache2\u001b[0m\u001b[0;34m[\u001b[0m\u001b[0;34m'db1'\u001b[0m\u001b[0;34m]\u001b[0m\u001b[0;34m=\u001b[0m\u001b[0mcache2\u001b[0m\u001b[0;34m[\u001b[0m\u001b[0;34m'dZ'\u001b[0m\u001b[0;34m+\u001b[0m\u001b[0mstr\u001b[0m\u001b[0;34m(\u001b[0m\u001b[0mi\u001b[0m\u001b[0;34m)\u001b[0m\u001b[0;34m]\u001b[0m\u001b[0;34m\u001b[0m\u001b[0m\n\u001b[1;32m     27\u001b[0m \u001b[0;34m\u001b[0m\u001b[0m\n",
      "\u001b[0;31mKeyboardInterrupt\u001b[0m: "
     ]
    }
   ],
   "source": [
    "parameters=train(2, [100,50], 'He', 'relu', 0.01)"
   ]
  },
  {
   "cell_type": "code",
   "execution_count": 28,
   "metadata": {},
   "outputs": [],
   "source": [
    "df=pd.read_csv(\"MNIST dataset/train.csv\")\n",
    "X_train=np.array(df.iloc[:,1:]).T\n",
    "y_train=np.array(df.iloc[:,0])\n",
    "y_train=y_train.reshape(1,y_train.shape[0])\n",
    "y_train=one_hot(y_train) #one hot\n",
    "del df\n",
    "X_train=X_train/np.max(X_train)\n",
    "m=X_train.shape[1]"
   ]
  },
  {
   "cell_type": "code",
   "execution_count": 26,
   "metadata": {},
   "outputs": [
    {
     "name": "stdout",
     "output_type": "stream",
     "text": [
      "[[ 1.78587222  1.00106171 -0.00382787 ... -0.28839754  0.73577846\n",
      "  -0.60379733]\n",
      " [ 1.39638372  0.80782387  1.44532641 ... -0.08066657 -1.24575505\n",
      "   0.5385621 ]\n",
      " [ 0.57501008 -0.40044002  0.32160629 ...  1.34828102 -0.05182009\n",
      "  -1.2309356 ]\n",
      " ...\n",
      " [ 1.59618568  1.25163257 -0.86411736 ... -0.64297419  0.90103906\n",
      "  -0.05913399]\n",
      " [-1.61804996 -0.09143681 -0.5021722  ...  0.44455058 -2.04691807\n",
      "  -0.86930639]\n",
      " [ 0.040396    1.71215624 -0.24029863 ...  1.24237587 -1.97027679\n",
      "   0.15973742]]\n"
     ]
    }
   ],
   "source": [
    "print(parameters['W1'])"
   ]
  },
  {
   "cell_type": "code",
   "execution_count": 49,
   "metadata": {},
   "outputs": [],
   "source": [
    "cache=feed_forward(parameters,X_train[:,0].reshape(784,1),no_hd_l=2,activation='relu')"
   ]
  },
  {
   "cell_type": "code",
   "execution_count": 50,
   "metadata": {},
   "outputs": [
    {
     "data": {
      "text/plain": [
       "array([[0.],\n",
       "       [0.],\n",
       "       [0.],\n",
       "       [1.],\n",
       "       [0.],\n",
       "       [0.],\n",
       "       [0.],\n",
       "       [0.],\n",
       "       [0.],\n",
       "       [0.]])"
      ]
     },
     "execution_count": 50,
     "metadata": {},
     "output_type": "execute_result"
    }
   ],
   "source": [
    "cache['A'+str(2+1)]"
   ]
  },
  {
   "cell_type": "code",
   "execution_count": 40,
   "metadata": {},
   "outputs": [
    {
     "data": {
      "text/plain": [
       "3"
      ]
     },
     "execution_count": 40,
     "metadata": {},
     "output_type": "execute_result"
    }
   ],
   "source": [
    "np.argmax(cache['A'+str(2+1)][:,0])"
   ]
  },
  {
   "cell_type": "code",
   "execution_count": 42,
   "metadata": {},
   "outputs": [
    {
     "data": {
      "text/plain": [
       "0"
      ]
     },
     "execution_count": 42,
     "metadata": {},
     "output_type": "execute_result"
    }
   ],
   "source": [
    "np.argmax(y_train[:,4])"
   ]
  },
  {
   "cell_type": "code",
   "execution_count": null,
   "metadata": {},
   "outputs": [],
   "source": []
  }
 ],
 "metadata": {
  "kernelspec": {
   "display_name": "Python 3",
   "language": "python",
   "name": "python3"
  },
  "language_info": {
   "codemirror_mode": {
    "name": "ipython",
    "version": 3
   },
   "file_extension": ".py",
   "mimetype": "text/x-python",
   "name": "python",
   "nbconvert_exporter": "python",
   "pygments_lexer": "ipython3",
   "version": "3.6.5"
  }
 },
 "nbformat": 4,
 "nbformat_minor": 2
}
