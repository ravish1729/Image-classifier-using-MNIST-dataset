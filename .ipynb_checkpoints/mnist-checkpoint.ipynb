{
 "cells": [
  {
   "cell_type": "code",
   "execution_count": 7,
   "metadata": {},
   "outputs": [],
   "source": [
    "import pandas as pd\n",
    "import numpy as np"
   ]
  },
  {
   "cell_type": "code",
   "execution_count": 76,
   "metadata": {},
   "outputs": [],
   "source": [
    "def softmax(z):\n",
    "    t=np.exp(z- np.max(z))\n",
    "    return(t/(np.sum(t,axis=0))) # axis=0 sum column wise"
   ]
  },
  {
   "cell_type": "code",
   "execution_count": 77,
   "metadata": {},
   "outputs": [],
   "source": [
    "def relu(z):\n",
    "    return(np.maximum(z,0))"
   ]
  },
  {
   "cell_type": "code",
   "execution_count": 61,
   "metadata": {},
   "outputs": [],
   "source": [
    "def model(no_hd_l,hd_unit,input_size,output_size,initialization=None):\n",
    "    if(len(hd_unit)!=no_hd_l):\n",
    "        return\n",
    "    hd_unit=[input_size]+hd_unit\n",
    "    hd_unit=hd_unit+[output_size]\n",
    "    parameters=dict()\n",
    "    \n",
    "    if(initialization is None):\n",
    "        for i in range(1,no_hd_l+2):\n",
    "            parameters['W'+str(i)]=np.random.randn(hd_unit[i],hd_unit[i-1])\n",
    "            parameters['b'+str(i)]=np.zeros([hd_unit[i],1])\n",
    "        \n",
    "    if(initialization is 'He'):\n",
    "        for i in range(1,no_hd_l+2):\n",
    "            parameters['W'+str(i)]=np.random.randn(hd_unit[i],hd_unit[i-1])*np.sqrt(2/hd_unit[i-1])\n",
    "            parameters['b'+str(i)]=np.zeros([hd_unit[i],1])\n",
    "        \n",
    "    if(initialization is 'Xavier'):\n",
    "        for i in range(1,no_hd_l+2):\n",
    "            parameters['W'+str(i)]=np.random.randn(hd_unit[i],hd_unit[i-1])*np.sqrt(1/hd_unit[i-1])\n",
    "            parameters['b'+str(i)]=np.zeros([hd_unit[i],1])\n",
    "    return(parameters)"
   ]
  },
  {
   "cell_type": "code",
   "execution_count": 74,
   "metadata": {},
   "outputs": [],
   "source": [
    "def feed_forward(parameters,X_train,no_hd_l,activation):\n",
    "    cache1=dict()\n",
    "    if(activation is 'relu'):\n",
    "        cache1['Z1']=np.matmul(parameters['W1'],X_train)+parameters['b1']\n",
    "        cache1['A1']=relu(cache1['Z1'])\n",
    "        for i in range(2,no_hd_l+1):\n",
    "            cache['Z'+str(i)]=np.matmul(parameters['W'+str(i)],cache['A'+str(i-1)])+parameters['b'+str(i)]\n",
    "            cache['A'+str(i)]=relu(cache['Z'+str(i)])\n",
    "    \n",
    "    if(activation is 'sigmoid'):\n",
    "        cache1['Z1']=np.matmul(parameters['W1'],X_train)+parameters['b1']\n",
    "        cache1['A1']=sigmoid(cache1['Z1'])\n",
    "        for i in range(2,no_hd_l+1):\n",
    "            cache['Z'+str(i)]=np.matmul(parameters['W'+str(i)],cache['A'+str(i-1)])+parameters['b'+str(i)]\n",
    "            cache['A'+str(i)]=sigmoid(cache['Z'+str(i)])\n",
    "    \n",
    "    if(activation is 'tanh'):\n",
    "        cache1['Z1']=np.matmul(parameters['W1'],X_train)+parameters['b1']\n",
    "        cache1['A1']=tanh(cache1['Z1'])\n",
    "        for i in range(2,no_hd_l+1):\n",
    "            cache['Z'+str(i)]=np.matmul(parameters['W'+str(i)],cache['A'+str(i-1)])+parameters['b'+str(i)]\n",
    "            cache['A'+str(i)]=tanh(cache['Z'+str(i)])\n",
    "        \n",
    "    cache['Z'+str(no_hd_l+1)]=np.matmul(parameters['W'+str(no_hd_l+1)],cache['A'+str(no_hd_l+1-1)])+parameters['b'+str(no_hd_l+1)]\n",
    "    cache['A'+str(no_hd_l+1)]=softmax(cache['Z'+str(no_hd_l+1)])\n",
    "    return(cache['A'+str(no_hd_l+1)])"
   ]
  },
  {
   "cell_type": "code",
   "execution_count": null,
   "metadata": {},
   "outputs": [],
   "source": [
    "def backward():"
   ]
  },
  {
   "cell_type": "code",
   "execution_count": null,
   "metadata": {},
   "outputs": [],
   "source": [
    "def cost():"
   ]
  },
  {
   "cell_type": "code",
   "execution_count": 53,
   "metadata": {},
   "outputs": [],
   "source": [
    "def one_hot(y_train):\n",
    "    ceal=np.max(y_train)+1\n",
    "    temp=np.zeros([ceal,y_train.shape[1]])\n",
    "    for i in range(y_train.shape[1]):\n",
    "        k=y_train[0][i]                    # Just another temp variable\n",
    "        temp[k][i]=1\n",
    "    return temp"
   ]
  },
  {
   "cell_type": "code",
   "execution_count": 8,
   "metadata": {},
   "outputs": [],
   "source": [
    "df=pd.read_csv(\"MNIST dataset/train.csv\")"
   ]
  },
  {
   "cell_type": "code",
   "execution_count": 44,
   "metadata": {},
   "outputs": [],
   "source": [
    "X_train=np.array(df.iloc[:,1:]).T\n",
    "y_train=np.array(df.iloc[:,0])\n",
    "y_train=y_train.reshape(1,y_train.shape[0])\n",
    "y_train=one_hot(y_train) #one hot\n",
    "del df"
   ]
  },
  {
   "cell_type": "code",
   "execution_count": 71,
   "metadata": {},
   "outputs": [],
   "source": [
    "parameters=model(no_hd_l=2,hd_unit=[50,25],input_size=X_train.shape[0],output_size=10,initialization='Xavier')"
   ]
  },
  {
   "cell_type": "code",
   "execution_count": 72,
   "metadata": {},
   "outputs": [
    {
     "name": "stdout",
     "output_type": "stream",
     "text": [
      "(50, 784) (25, 50) (10, 25)\n",
      "(50, 1) (25, 1) (10, 1)\n"
     ]
    }
   ],
   "source": [
    "print(parameters['W1'].shape,parameters['W2'].shape,parameters['W3'].shape)\n",
    "print(parameters['b1'].shape,parameters['b2'].shape,parameters['b3'].shape)"
   ]
  },
  {
   "cell_type": "code",
   "execution_count": 75,
   "metadata": {},
   "outputs": [
    {
     "ename": "NameError",
     "evalue": "name 'relu' is not defined",
     "output_type": "error",
     "traceback": [
      "\u001b[0;31m---------------------------------------------------------------------------\u001b[0m",
      "\u001b[0;31mNameError\u001b[0m                                 Traceback (most recent call last)",
      "\u001b[0;32m<ipython-input-75-6d30d982cfc3>\u001b[0m in \u001b[0;36m<module>\u001b[0;34m()\u001b[0m\n\u001b[0;32m----> 1\u001b[0;31m \u001b[0ma\u001b[0m\u001b[0;34m=\u001b[0m\u001b[0mfeed_forward\u001b[0m\u001b[0;34m(\u001b[0m\u001b[0mparameters\u001b[0m\u001b[0;34m,\u001b[0m\u001b[0mX_train\u001b[0m\u001b[0;34m)\u001b[0m\u001b[0;34m\u001b[0m\u001b[0m\n\u001b[0m",
      "\u001b[0;32m<ipython-input-74-282cf63dbcb5>\u001b[0m in \u001b[0;36mfeed_forward\u001b[0;34m(parameters, X_train)\u001b[0m\n\u001b[1;32m      2\u001b[0m     \u001b[0mcache1\u001b[0m\u001b[0;34m=\u001b[0m\u001b[0mdict\u001b[0m\u001b[0;34m(\u001b[0m\u001b[0;34m)\u001b[0m\u001b[0;34m\u001b[0m\u001b[0m\n\u001b[1;32m      3\u001b[0m     \u001b[0mcache1\u001b[0m\u001b[0;34m[\u001b[0m\u001b[0;34m'Z1'\u001b[0m\u001b[0;34m]\u001b[0m\u001b[0;34m=\u001b[0m\u001b[0mnp\u001b[0m\u001b[0;34m.\u001b[0m\u001b[0mmatmul\u001b[0m\u001b[0;34m(\u001b[0m\u001b[0mparameters\u001b[0m\u001b[0;34m[\u001b[0m\u001b[0;34m'W1'\u001b[0m\u001b[0;34m]\u001b[0m\u001b[0;34m,\u001b[0m\u001b[0mX_train\u001b[0m\u001b[0;34m)\u001b[0m\u001b[0;34m+\u001b[0m\u001b[0mparameters\u001b[0m\u001b[0;34m[\u001b[0m\u001b[0;34m'b1'\u001b[0m\u001b[0;34m]\u001b[0m\u001b[0;34m\u001b[0m\u001b[0m\n\u001b[0;32m----> 4\u001b[0;31m     \u001b[0mcache1\u001b[0m\u001b[0;34m[\u001b[0m\u001b[0;34m'A1'\u001b[0m\u001b[0;34m]\u001b[0m\u001b[0;34m=\u001b[0m\u001b[0mrelu\u001b[0m\u001b[0;34m(\u001b[0m\u001b[0mcache1\u001b[0m\u001b[0;34m[\u001b[0m\u001b[0;34m'Z1'\u001b[0m\u001b[0;34m]\u001b[0m\u001b[0;34m)\u001b[0m\u001b[0;34m\u001b[0m\u001b[0m\n\u001b[0m\u001b[1;32m      5\u001b[0m     \u001b[0;32mfor\u001b[0m \u001b[0mi\u001b[0m \u001b[0;32min\u001b[0m \u001b[0mrange\u001b[0m\u001b[0;34m(\u001b[0m\u001b[0;36m2\u001b[0m\u001b[0;34m,\u001b[0m\u001b[0mno_hd_l\u001b[0m\u001b[0;34m+\u001b[0m\u001b[0;36m2\u001b[0m\u001b[0;34m)\u001b[0m\u001b[0;34m:\u001b[0m\u001b[0;34m\u001b[0m\u001b[0m\n\u001b[1;32m      6\u001b[0m         \u001b[0mcache\u001b[0m\u001b[0;34m[\u001b[0m\u001b[0;34m'Z'\u001b[0m\u001b[0;34m+\u001b[0m\u001b[0mstr\u001b[0m\u001b[0;34m(\u001b[0m\u001b[0mi\u001b[0m\u001b[0;34m)\u001b[0m\u001b[0;34m]\u001b[0m\u001b[0;34m=\u001b[0m\u001b[0mnp\u001b[0m\u001b[0;34m.\u001b[0m\u001b[0mmatmul\u001b[0m\u001b[0;34m(\u001b[0m\u001b[0mparameters\u001b[0m\u001b[0;34m[\u001b[0m\u001b[0;34m'W'\u001b[0m\u001b[0;34m+\u001b[0m\u001b[0mstr\u001b[0m\u001b[0;34m(\u001b[0m\u001b[0mi\u001b[0m\u001b[0;34m)\u001b[0m\u001b[0;34m]\u001b[0m\u001b[0;34m,\u001b[0m\u001b[0mcache\u001b[0m\u001b[0;34m[\u001b[0m\u001b[0;34m'A'\u001b[0m\u001b[0;34m+\u001b[0m\u001b[0mstr\u001b[0m\u001b[0;34m(\u001b[0m\u001b[0mi\u001b[0m\u001b[0;34m-\u001b[0m\u001b[0;36m1\u001b[0m\u001b[0;34m)\u001b[0m\u001b[0;34m]\u001b[0m\u001b[0;34m)\u001b[0m\u001b[0;34m+\u001b[0m\u001b[0mparameters\u001b[0m\u001b[0;34m[\u001b[0m\u001b[0;34m'b'\u001b[0m\u001b[0;34m+\u001b[0m\u001b[0mstr\u001b[0m\u001b[0;34m(\u001b[0m\u001b[0mi\u001b[0m\u001b[0;34m)\u001b[0m\u001b[0;34m]\u001b[0m\u001b[0;34m\u001b[0m\u001b[0m\n",
      "\u001b[0;31mNameError\u001b[0m: name 'relu' is not defined"
     ]
    }
   ],
   "source": [
    "a=feed_forward(parameters,X_train)"
   ]
  },
  {
   "cell_type": "code",
   "execution_count": null,
   "metadata": {},
   "outputs": [],
   "source": []
  }
 ],
 "metadata": {
  "kernelspec": {
   "display_name": "Python 3",
   "language": "python",
   "name": "python3"
  },
  "language_info": {
   "codemirror_mode": {
    "name": "ipython",
    "version": 3
   },
   "file_extension": ".py",
   "mimetype": "text/x-python",
   "name": "python",
   "nbconvert_exporter": "python",
   "pygments_lexer": "ipython3",
   "version": "3.5.2"
  }
 },
 "nbformat": 4,
 "nbformat_minor": 2
}
