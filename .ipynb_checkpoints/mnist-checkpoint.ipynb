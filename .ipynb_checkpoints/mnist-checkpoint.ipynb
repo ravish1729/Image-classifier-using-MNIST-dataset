{
 "cells": [
  {
   "cell_type": "code",
   "execution_count": 2,
   "metadata": {},
   "outputs": [],
   "source": [
    "import pandas as pd\n",
    "import numpy as np"
   ]
  },
  {
   "cell_type": "code",
   "execution_count": 3,
   "metadata": {},
   "outputs": [],
   "source": [
    "def one_hot(y_train):\n",
    "    ceal=np.max(y_train)+1\n",
    "    temp=np.zeros([ceal,y_train.shape[1]])\n",
    "    for i in range(y_train.shape[1]):\n",
    "        k=y_train[0][i]                    # k Just another temp variable\n",
    "        temp[k][i]=1\n",
    "    return temp"
   ]
  },
  {
   "cell_type": "code",
   "execution_count": 4,
   "metadata": {},
   "outputs": [],
   "source": [
    "def softmax(z):\n",
    "    return(np.exp(z)/(np.sum(np.exp(z),axis=0))) # axis=0 sum column wise"
   ]
  },
  {
   "cell_type": "code",
   "execution_count": 5,
   "metadata": {},
   "outputs": [],
   "source": [
    "def relu(z):\n",
    "    return(np.maximum(z,0.01*z))"
   ]
  },
  {
   "cell_type": "code",
   "execution_count": 15,
   "metadata": {},
   "outputs": [],
   "source": [
    "def sigmoid(z):\n",
    "    return(1/(1+np.exp(-z)))"
   ]
  },
  {
   "cell_type": "code",
   "execution_count": 6,
   "metadata": {},
   "outputs": [],
   "source": [
    "def tanh(z):\n",
    "    return((np.exp(z)-np.exp(-z))/(np.exp(z)+np.exp(-z)))"
   ]
  },
  {
   "cell_type": "code",
   "execution_count": 7,
   "metadata": {},
   "outputs": [],
   "source": [
    "def model(no_hd_l, hd_unit, input_size, output_size, initialization=None):\n",
    "    ''' Initialize weights and bias according to type of initialization and no of hidden layers \n",
    "        defined by user\n",
    "        no_hd_l        -- no of hiddel layers\n",
    "        hd_unit        -- list no of units(neuron) in each layer\n",
    "        input_size     -- size of input or the layer 0\n",
    "        output_size    -- size of output layer(last layer) or the number of elements to classify\n",
    "        initialization -- type of initialization i.e. None, He, Xavier\n",
    "        '''\n",
    "    if(len(hd_unit)!=no_hd_l):\n",
    "        raise ValueError('Size of hidden unit list != No of hidden layer')\n",
    "        return\n",
    "    hd_unit=[input_size]+hd_unit\n",
    "    hd_unit=hd_unit+[output_size]\n",
    "    parameters=dict()\n",
    "    \n",
    "    if(initialization is None):\n",
    "        for i in range(1,no_hd_l+2):\n",
    "            parameters['W'+str(i)]=np.random.randn(hd_unit[i],hd_unit[i-1])\n",
    "            parameters['b'+str(i)]=np.zeros((hd_unit[i],1))\n",
    "        \n",
    "    if(initialization is 'He'):\n",
    "        for i in range(1,no_hd_l+2):\n",
    "            parameters['W'+str(i)]=np.random.randn(hd_unit[i],hd_unit[i-1])*np.sqrt(2/hd_unit[i-1])\n",
    "            parameters['b'+str(i)]=np.zeros((hd_unit[i],1))\n",
    "        \n",
    "    if(initialization is 'Xavier'):\n",
    "        for i in range(1,no_hd_l+2):\n",
    "            parameters['W'+str(i)]=np.random.randn(hd_unit[i],hd_unit[i-1])*np.sqrt(1/hd_unit[i-1])\n",
    "            parameters['b'+str(i)]=np.zeros((hd_unit[i],1))\n",
    "    return(parameters)"
   ]
  },
  {
   "cell_type": "code",
   "execution_count": 8,
   "metadata": {},
   "outputs": [],
   "source": [
    "def feed_forward(parameters, X_train, no_hd_l, activation):\n",
    "    ''' Forward Propogation\n",
    "        parameters -- returned by model function\n",
    "        X_train    -- training data\n",
    "        no_hd_l    -- no of hidden layer\n",
    "        activation -- activation for hidden layers i.e. sigmoid or tanh or relu\n",
    "    '''\n",
    "    cache1=dict()\n",
    "    if(activation is 'relu'):\n",
    "        cache1['Z1']=np.matmul(parameters['W1'],X_train)+parameters['b1']\n",
    "        cache1['A1']=relu(cache1['Z1'])\n",
    "        for i in range(2,no_hd_l+1):\n",
    "            cache1['Z'+str(i)]=np.matmul(parameters['W'+str(i)],cache1['A'+str(i-1)])+parameters['b'+str(i)]\n",
    "            cache1['A'+str(i)]=relu(cache1['Z'+str(i)])\n",
    "    \n",
    "    if(activation is 'sigmoid'):\n",
    "        cache1['Z1']=np.matmul(parameters['W1'],X_train)+parameters['b1']\n",
    "        cache1['A1']=sigmoid(cache1['Z1'])\n",
    "        for i in range(2,no_hd_l+1):\n",
    "            cache1['Z'+str(i)]=np.matmul(parameters['W'+str(i)],cache1['A'+str(i-1)])+parameters['b'+str(i)]\n",
    "            cache1['A'+str(i)]=sigmoid(cache1['Z'+str(i)])\n",
    "    \n",
    "    if(activation is 'tanh'):\n",
    "        cache1['Z1']=np.matmul(parameters['W1'],X_train)+parameters['b1']\n",
    "        cache1['A1']=tanh(cache1['Z1'])\n",
    "        for i in range(2,no_hd_l+1):\n",
    "            cache1['Z'+str(i)]=np.matmul(parameters['W'+str(i)],cache1['A'+str(i-1)])+parameters['b'+str(i)]\n",
    "            cache1['A'+str(i)]=tanh(cache1['Z'+str(i)])\n",
    "        \n",
    "    cache1['Z'+str(no_hd_l+1)]=np.matmul(parameters['W'+str(no_hd_l+1)],cache1['A'+str(no_hd_l+1-1)])+parameters['b'+str(no_hd_l+1)]\n",
    "    cache1['A'+str(no_hd_l+1)]=softmax(cache1['Z'+str(no_hd_l+1)])\n",
    "    return(cache1)"
   ]
  },
  {
   "cell_type": "code",
   "execution_count": 9,
   "metadata": {},
   "outputs": [],
   "source": [
    "def cost(A,y,m):\n",
    "    cost=-np.sum(y*np.log(A)+(1-y)*np.log(1-A))/m\n",
    "    return(cost)"
   ]
  },
  {
   "cell_type": "code",
   "execution_count": 17,
   "metadata": {},
   "outputs": [],
   "source": [
    "def back_prop(parameters, cache1, X_train, y_train, no_hd_l, activation, learning_rate):\n",
    "    ''' Backward Propogation \n",
    "        parameters     -- returned by model\n",
    "        cache1         -- returned by feed_forward\n",
    "        X_train        -- training data\n",
    "        y_train        -- labels of training data one-hot encoded\n",
    "        no_hd_l        -- scalar, no of hidden layers\n",
    "        activation     -- String, type of activation function used in hidden layers i.e. relu or sigmoid or tanh\n",
    "        learning_rate  -- Scalar, learning rate\n",
    "    '''\n",
    "    \n",
    "    cache2={}\n",
    "    cache2['dZ'+str(no_hd_l+1)]=cache1['A'+str(no_hd_l+1)]-y_train\n",
    "    cache2['dW'+str(no_hd_l+1)]=np.matmul(cache2['dZ'+str(no_hd_l+1)],cache1['A'+str(no_hd_l)].T)\n",
    "    cache2['db'+str(no_hd_l+1)]=cache2['dZ'+str(no_hd_l+1)]\n",
    "    i=no_hd_l\n",
    "    \n",
    "    if(activation is 'relu'):\n",
    "        while(i>1):\n",
    "            cache2['dZ'+str(i)]=np.matmul(parameters['W'+str(i+1)].T,cache2['dZ'+str(i+1)])\n",
    "            cache2['dW'+str(i)]=np.matmul(cache2['dZ'+str(i)],cache1['A'+str(i-1)].T)\n",
    "            cache2['db'+str(i)]=cache2['dZ'+str(i)]\n",
    "            print(cache2['dW'+str(i)])\n",
    "            i=i-1\n",
    "        cache2['dZ1']=np.matmul(parameters['W'+str(i+1)].T,cache2['dZ'+str(i+1)])\n",
    "        cache2['dW1']=np.matmul(cache2['dZ'+str(i)],X_train.T)\n",
    "        cache2['db1']=cache2['dZ'+str(i)]\n",
    "        print(cache2['dW1'])\n",
    "        \n",
    "    if(activation is 'sigmoid'):\n",
    "        while(i>1):\n",
    "            cache2['dZ'+str(i)]=np.matmul(parameters['W'+str(i+1)].T,cache2['dZ'+str(i+1)])*(cache1['A'+str(i)]*np.square(cache1['A'+str(i)]))\n",
    "            cache2['dW'+str(i)]=np.matmul(cache2['dZ'+str(i)],cache1['A'+str(i-1)].T)\n",
    "            cache2['db'+str(i)]=cache2['dZ'+str(i)]\n",
    "            i=i-1\n",
    "        cache2['dZ1']=np.matmul(parameters['W'+str(i+1)].T,cache2['dZ'+str(i+1)])*(cache1['A1']*np.square(cache1['A1']))\n",
    "        cache2['dW1']=np.matmul(cache2['dZ'+str(i)],X_train.T)\n",
    "        cache2['db1']=cache2['dZ'+str(i)]\n",
    "        \n",
    "    if(activation is 'tanh'):\n",
    "        while(i>1):\n",
    "            cache2['dZ'+str(i)]=np.matmul(parameters['W'+str(i+1)].T,cache2['dZ'+str(i+1)])*(1-np.square(cache1['A'+str(i)]))\n",
    "            cache2['dW'+str(i)]=np.matmul(cache2['dZ'+str(i)],cache1['A'+str(i-1)].T)\n",
    "            cache2['db'+str(i)]=cache2['dZ'+str(i)]\n",
    "            i=i-1\n",
    "        cache2['dZ1']=np.matmul(parameters['W'+str(i+1)].T,cache2['dZ'+str(i+1)])*(1-np.square(cache1['A1']))\n",
    "        cache2['dW1']=np.matmul(cache2['dZ'+str(i)],X_train.T)\n",
    "        cache2['db1']=cache2['dZ'+str(i)]\n",
    "        \n",
    "    for i in range(1,no_hd_l+2):\n",
    "        parameters[\"W\"+str(i)]=parameters[\"W\"+str(i)]-(learning_rate*cache2[\"dW\"+str(i)])\n",
    "        parameters[\"b\"+str(i)]=parameters[\"b\"+str(i)]-(learning_rate*cache2[\"db\"+str(i)])\n",
    "    return(parameters)"
   ]
  },
  {
   "cell_type": "code",
   "execution_count": 18,
   "metadata": {},
   "outputs": [],
   "source": [
    "def data():\n",
    "    df=pd.read_csv(\"MNIST dataset/train.csv\")\n",
    "    X_train=np.array(df.iloc[:,1:]).T\n",
    "    y_train=np.array(df.iloc[:,0])\n",
    "    y_train=y_train.reshape(1,y_train.shape[0])\n",
    "    y_train=one_hot(y_train) #one hot\n",
    "    del df\n",
    "    variance=np.var(X_train,axis=0)\n",
    "    X_train=X_train/variance\n",
    "    m=X_train.shape[1]\n",
    "    return((X_train, y_train, m))"
   ]
  },
  {
   "cell_type": "code",
   "execution_count": 19,
   "metadata": {},
   "outputs": [],
   "source": [
    "def train(no_hd_l, hd_unit, initialization, activation, learning_rate):\n",
    "    X_train, y_train, m = data()\n",
    "    parameters=model(no_hd_l, hd_unit, input_size=X_train.shape[0],output_size=10,initialization='Xavier')\n",
    "    \n",
    "    for i in range(10):\n",
    "        cache1=feed_forward(parameters, X_train, no_hd_l, activation)\n",
    "        print(cost(cache1['A'+str(no_hd_l+1)], y_train, m))\n",
    "        back_prop(parameters, cache1, X_train, y_train, no_hd_l, activation, learning_rate)"
   ]
  },
  {
   "cell_type": "code",
   "execution_count": 20,
   "metadata": {},
   "outputs": [
    {
     "name": "stdout",
     "output_type": "stream",
     "text": [
      "3.25053258888\n",
      "3.26072413599\n"
     ]
    },
    {
     "name": "stderr",
     "output_type": "stream",
     "text": [
      "/usr/local/lib/python3.5/dist-packages/ipykernel_launcher.py:2: RuntimeWarning: divide by zero encountered in log\n",
      "  \n",
      "/usr/local/lib/python3.5/dist-packages/ipykernel_launcher.py:2: RuntimeWarning: invalid value encountered in multiply\n",
      "  \n"
     ]
    },
    {
     "name": "stdout",
     "output_type": "stream",
     "text": [
      "nan\n"
     ]
    },
    {
     "name": "stderr",
     "output_type": "stream",
     "text": [
      "/usr/local/lib/python3.5/dist-packages/ipykernel_launcher.py:2: RuntimeWarning: overflow encountered in exp\n",
      "  \n",
      "/usr/local/lib/python3.5/dist-packages/ipykernel_launcher.py:2: RuntimeWarning: invalid value encountered in true_divide\n",
      "  \n"
     ]
    },
    {
     "name": "stdout",
     "output_type": "stream",
     "text": [
      "nan\n",
      "nan\n",
      "nan\n",
      "nan\n",
      "nan\n",
      "nan\n",
      "nan\n"
     ]
    }
   ],
   "source": [
    "train(2, [100,50], 'He', 'tanh', 0.01)"
   ]
  },
  {
   "cell_type": "code",
   "execution_count": null,
   "metadata": {},
   "outputs": [],
   "source": []
  }
 ],
 "metadata": {
  "kernelspec": {
   "display_name": "Python 3",
   "language": "python",
   "name": "python3"
  },
  "language_info": {
   "codemirror_mode": {
    "name": "ipython",
    "version": 3
   },
   "file_extension": ".py",
   "mimetype": "text/x-python",
   "name": "python",
   "nbconvert_exporter": "python",
   "pygments_lexer": "ipython3",
   "version": "3.5.2"
  }
 },
 "nbformat": 4,
 "nbformat_minor": 2
}
