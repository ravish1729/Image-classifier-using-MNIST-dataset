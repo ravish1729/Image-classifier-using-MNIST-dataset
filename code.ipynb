{
 "cells": [
  {
   "cell_type": "code",
   "execution_count": 1,
   "metadata": {},
   "outputs": [],
   "source": [
    "import pandas as pd\n",
    "import numpy as np"
   ]
  },
  {
   "cell_type": "code",
   "execution_count": 2,
   "metadata": {},
   "outputs": [],
   "source": [
    "def one_hot(y_train):\n",
    "    max_y=np.max(y_train)+1\n",
    "    temp=np.zeros([max_y,y_train.shape[1]])\n",
    "    for i in range(y_train.shape[1]):\n",
    "        k=y_train[0][i]                    # k Just another temp variable\n",
    "        temp[k][i]=1\n",
    "    return temp"
   ]
  },
  {
   "cell_type": "code",
   "execution_count": 3,
   "metadata": {},
   "outputs": [],
   "source": [
    "def softmax(z):\n",
    "    z_norm=np.exp(z-np.max(z,axis=0))\n",
    "    return(np.divide(z_norm,np.sum(z_norm,axis=0)))"
   ]
  },
  {
   "cell_type": "code",
   "execution_count": 4,
   "metadata": {},
   "outputs": [],
   "source": [
    "def relu(z):\n",
    "    return(np.maximum(z,0.0))"
   ]
  },
  {
   "cell_type": "code",
   "execution_count": 5,
   "metadata": {},
   "outputs": [],
   "source": [
    "def sigmoid(z):\n",
    "    return(1.0/(1.0+np.exp(-z)))"
   ]
  },
  {
   "cell_type": "code",
   "execution_count": 6,
   "metadata": {},
   "outputs": [],
   "source": [
    "def tanh(z):\n",
    "    return(np.tanh(Z))"
   ]
  },
  {
   "cell_type": "code",
   "execution_count": 7,
   "metadata": {},
   "outputs": [],
   "source": [
    "def model(no_hd_l, hd_unit, input_size, output_size, initialization=None):\n",
    "    ''' Initialize weights and bias according to type of initialization and no of hidden layers \n",
    "        defined by user\n",
    "        no_hd_l        -- no of hiddel layers\n",
    "        hd_unit        -- list no of units(neuron) in each layer\n",
    "        input_size     -- size of input or the layer 0\n",
    "        output_size    -- size of output layer(last layer) or the number of elements to classify\n",
    "        initialization -- type of initialization i.e. None, He, Xavier\n",
    "        '''\n",
    "    \n",
    "    if(len(hd_unit)!=no_hd_l):\n",
    "        raise ValueError('Size of hidden unit list != No of hidden layer')\n",
    "        return\n",
    "    \n",
    "    hd_unit=[input_size]+hd_unit\n",
    "    hd_unit=hd_unit+[output_size]\n",
    "    parameters=dict()\n",
    "    \n",
    "    if(initialization is None):\n",
    "        for i in range(1,no_hd_l+2):\n",
    "            parameters['W'+str(i)]=np.random.randn(hd_unit[i],hd_unit[i-1])\n",
    "            parameters['b'+str(i)]=np.zeros((hd_unit[i],1))\n",
    "        \n",
    "    if(initialization is 'He'):\n",
    "        for i in range(1,no_hd_l+2):\n",
    "            parameters['W'+str(i)]=np.random.randn(hd_unit[i],hd_unit[i-1])*np.sqrt(2/hd_unit[i-1])\n",
    "            parameters['b'+str(i)]=np.zeros((hd_unit[i],1))\n",
    "        \n",
    "    if(initialization is 'Xavier'):\n",
    "        for i in range(1,no_hd_l+2):\n",
    "            parameters['W'+str(i)]=np.random.randn(hd_unit[i],hd_unit[i-1])*np.sqrt(1/hd_unit[i-1])\n",
    "            parameters['b'+str(i)]=np.zeros((hd_unit[i],1))\n",
    "    return(parameters)"
   ]
  },
  {
   "cell_type": "code",
   "execution_count": 8,
   "metadata": {},
   "outputs": [],
   "source": [
    "def feed_forward(parameters, X_train, no_hd_l, activation):\n",
    "    ''' Forward Propogation\n",
    "        parameters -- returned by model function\n",
    "        X_train    -- training data\n",
    "        no_hd_l    -- no of hidden layer\n",
    "        activation -- activation for hidden layers i.e. sigmoid or tanh or relu\n",
    "    '''\n",
    "    cache1=dict()\n",
    "    if(activation is 'relu'):\n",
    "        cache1['Z1']=np.matmul(parameters['W1'],X_train)+parameters['b1']\n",
    "        cache1['A1']=relu(cache1['Z1'])\n",
    "        for i in range(2,no_hd_l+1):\n",
    "            cache1['Z'+str(i)]=np.matmul(parameters['W'+str(i)],cache1['A'+str(i-1)])+parameters['b'+str(i)]\n",
    "            cache1['A'+str(i)]=relu(cache1['Z'+str(i)])\n",
    "    \n",
    "    if(activation is 'sigmoid'):\n",
    "        cache1['Z1']=np.matmul(parameters['W1'],X_train)+parameters['b1']\n",
    "        cache1['A1']=sigmoid(cache1['Z1'])\n",
    "        for i in range(2,no_hd_l+1):\n",
    "            cache1['Z'+str(i)]=np.matmul(parameters['W'+str(i)],cache1['A'+str(i-1)])+parameters['b'+str(i)]\n",
    "            cache1['A'+str(i)]=sigmoid(cache1['Z'+str(i)])\n",
    "    \n",
    "    if(activation is 'tanh'):\n",
    "        cache1['Z1']=np.matmul(parameters['W1'],X_train)+parameters['b1']\n",
    "        cache1['A1']=tanh(cache1['Z1'])\n",
    "        for i in range(2,no_hd_l+1):\n",
    "            cache1['Z'+str(i)]=np.matmul(parameters['W'+str(i)],cache1['A'+str(i-1)])+parameters['b'+str(i)]\n",
    "            cache1['A'+str(i)]=tanh(cache1['Z'+str(i)])\n",
    "    \n",
    "    cache1['Z'+str(no_hd_l+1)]=np.matmul(parameters['W'+str(no_hd_l+1)],cache1['A'+str(no_hd_l)])+parameters['b'+str(no_hd_l+1)]\n",
    "    cache1['A'+str(no_hd_l+1)]=softmax(cache1['Z'+str(no_hd_l+1)])\n",
    "    return(cache1)"
   ]
  },
  {
   "cell_type": "code",
   "execution_count": 9,
   "metadata": {},
   "outputs": [],
   "source": [
    "def cost(A,y,m):\n",
    "    cost=-np.divide(np.sum(y*np.log(A)),m)\n",
    "    return(cost)"
   ]
  },
  {
   "cell_type": "code",
   "execution_count": 10,
   "metadata": {},
   "outputs": [],
   "source": [
    "def back_prop(parameters, cache1, X_train, y_train, no_hd_l, activation, learning_rate,m):\n",
    "    ''' Backward Propogation \n",
    "        parameters     -- returned by model\n",
    "        cache1         -- returned by feed_forward\n",
    "        X_train        -- training data\n",
    "        y_train        -- labels of training data one-hot encoded\n",
    "        no_hd_l        -- scalar, no of hidden layers\n",
    "        activation     -- String, type of activation function used in hidden layers i.e. relu or sigmoid or tanh\n",
    "        learning_rate  -- Scalar, learning rate\n",
    "    '''\n",
    "    \n",
    "    cache2={}\n",
    "    cache2['dZ'+str(no_hd_l+1)]=(cache1['A'+str(no_hd_l+1)]-y_train)/m\n",
    "    cache2['dW'+str(no_hd_l+1)]=np.matmul(cache2['dZ'+str(no_hd_l+1)],cache1['A'+str(no_hd_l)].T)\n",
    "    cache2['db'+str(no_hd_l+1)]=cache2['dZ'+str(no_hd_l+1)]\n",
    "    i=no_hd_l\n",
    "    \n",
    "    if(activation is 'relu'):\n",
    "        while(i>1):\n",
    "            cache2['dZ'+str(i)]=np.matmul(parameters['W'+str(i+1)].T,cache2['dZ'+str(i+1)])\n",
    "            cache2['dW'+str(i)]=np.matmul(cache2['dZ'+str(i)],cache1['A'+str(i-1)].T)\n",
    "            cache2['db'+str(i)]=cache2['dZ'+str(i)]\n",
    "            i=i-1\n",
    "        cache2['dZ1']=np.matmul(parameters['W'+str(i+1)].T,cache2['dZ'+str(i+1)])\n",
    "        cache2['dW1']=np.matmul(cache2['dZ'+str(i)],X_train.T)\n",
    "        cache2['db1']=cache2['dZ'+str(i)]\n",
    "        \n",
    "    if(activation is 'sigmoid'):\n",
    "        while(i>1):\n",
    "            cache2['dZ'+str(i)]=np.matmul(parameters['W'+str(i+1)].T,cache2['dZ'+str(i+1)])*(cache1['A'+str(i)]*np.square(cache1['A'+str(i)]))\n",
    "            cache2['dW'+str(i)]=np.matmul(cache2['dZ'+str(i)],cache1['A'+str(i-1)].T)\n",
    "            cache2['db'+str(i)]=cache2['dZ'+str(i)]\n",
    "            i=i-1\n",
    "        cache2['dZ1']=np.matmul(parameters['W'+str(i+1)].T,cache2['dZ'+str(i+1)])*(cache1['A1']*np.square(cache1['A1']))\n",
    "        cache2['dW1']=np.matmul(cache2['dZ'+str(i)],X_train.T)\n",
    "        cache2['db1']=cache2['dZ'+str(i)]\n",
    "        \n",
    "    if(activation is 'tanh'):\n",
    "        while(i>1):\n",
    "            cache2['dZ'+str(i)]=np.matmul(parameters['W'+str(i+1)].T,cache2['dZ'+str(i+1)])*(1-np.square(cache1['A'+str(i)]))\n",
    "            cache2['dW'+str(i)]=np.matmul(cache2['dZ'+str(i)],cache1['A'+str(i-1)].T)\n",
    "            cache2['db'+str(i)]=cache2['dZ'+str(i)]\n",
    "            i=i-1\n",
    "        cache2['dZ1']=np.matmul(parameters['W'+str(i+1)].T,cache2['dZ'+str(i+1)])*(1-np.square(cache1['A1']))\n",
    "        cache2['dW1']=np.matmul(cache2['dZ'+str(i)],X_train.T)\n",
    "        cache2['db1']=cache2['dZ'+str(i)]\n",
    "        \n",
    "    for i in range(1,no_hd_l+2):\n",
    "        parameters[\"W\"+str(i)]=parameters[\"W\"+str(i)]-(learning_rate*cache2[\"dW\"+str(i)])\n",
    "        parameters[\"b\"+str(i)]=parameters[\"b\"+str(i)]-(learning_rate*cache2[\"db\"+str(i)])\n",
    "    return(parameters)"
   ]
  },
  {
   "cell_type": "code",
   "execution_count": 11,
   "metadata": {},
   "outputs": [],
   "source": [
    "def data():\n",
    "    df=pd.read_csv(\"MNIST dataset/train.csv\")\n",
    "    X_train=np.array(df.iloc[:,1:]).T\n",
    "    y_train=np.array(df.iloc[:,0])\n",
    "    y_train=y_train.reshape(1,y_train.shape[0])\n",
    "    y_train=one_hot(y_train) #one hot\n",
    "    del df\n",
    "    X_train=X_train/np.max(X_train)\n",
    "    m=X_train.shape[1]\n",
    "    return((X_train, y_train, m))"
   ]
  },
  {
   "cell_type": "code",
   "execution_count": 14,
   "metadata": {},
   "outputs": [],
   "source": [
    "def train(no_hd_l, hd_unit, initialization, activation, learning_rate):\n",
    "    # Data\n",
    "    X_train, y_train, m = data()\n",
    "    print('No of training example {}'.format(m))\n",
    "    print('X_train(data) {}'.format(X_train.shape))\n",
    "    print('y_train(labels) {}'.format(y_train.shape))\n",
    "    print('max and min value of data {} {}'.format(np.max(X_train),np.min(X_train)))\n",
    "    print()\n",
    "    \n",
    "    # Initialize Parameters\n",
    "    parameters=model(no_hd_l, hd_unit, input_size=X_train.shape[0],output_size=10,initialization=None)\n",
    "    \n",
    "    for i in range(100):\n",
    "        cache1=feed_forward(parameters, X_train, no_hd_l, activation)\n",
    "        print(cost(cache1['A'+str(no_hd_l+1)], y_train, m))\n",
    "        back_prop(parameters, cache1, X_train, y_train, no_hd_l, activation, learning_rate,m)\n",
    "    return(parameters)"
   ]
  },
  {
   "cell_type": "code",
   "execution_count": 21,
   "metadata": {
    "scrolled": true
   },
   "outputs": [
    {
     "name": "stdout",
     "output_type": "stream",
     "text": [
      "No of training example 42000\n",
      "X_train(data) (784, 42000)\n",
      "y_train(labels) (10, 42000)\n",
      "max and min value of data 1.0 0.0\n",
      "\n",
      "10.295497664462623\n",
      "8.235311397084715\n",
      "7.287615733982725\n",
      "6.674276804673139\n",
      "6.190786346075487\n",
      "5.776629217852684\n",
      "5.4197347946621175\n",
      "5.116268032199992\n",
      "4.859435761832552\n",
      "4.639664706951085\n",
      "4.447609284279327\n",
      "4.27575748227389\n",
      "4.119125563413873\n",
      "3.97478162717333\n",
      "3.84097768755411\n",
      "3.7165484158250743\n",
      "3.600622844607252\n",
      "3.4924742053823095\n",
      "3.3914583106641873\n",
      "3.296998761310077\n",
      "3.208566110790739\n",
      "3.125664507841067\n",
      "3.0478377583188525\n",
      "2.974673982173611\n",
      "2.9057996364861283\n",
      "2.840872587787859\n",
      "2.779578357891488\n",
      "2.721628482748409\n",
      "2.6667612827558327\n",
      "2.6147411235706413\n",
      "2.565354457214609\n",
      "2.5184061519051473\n",
      "2.4737180814374278\n",
      "2.4311285973050962\n",
      "2.390491473623899\n",
      "2.3516742691715637\n",
      "2.3145565584342713\n",
      "2.279028699668285\n",
      "2.2449914008331144\n",
      "2.212355316090883\n",
      "2.181039901138951\n",
      "2.1509716868812863\n",
      "2.1220826197891816\n",
      "2.0943088379576724\n",
      "2.067589943236069\n",
      "2.0418686833452937\n",
      "2.01709087582955\n",
      "1.993205418489177\n",
      "1.9701642919827846\n",
      "1.9479225101530835\n",
      "1.9264380078590915\n",
      "1.9056714819191467\n",
      "1.8855862132414933\n",
      "1.8661478932139595\n",
      "1.847324462575683\n",
      "1.8290859592524953\n",
      "1.8114043693454258\n",
      "1.794253479506636\n",
      "1.7776087331125294\n",
      "1.761447093803165\n",
      "1.7457469187424477\n",
      "1.7304878423937406\n",
      "1.7156506711234878\n",
      "1.7012172896407278\n",
      "1.6871705810539126\n",
      "1.6734943617767384\n",
      "1.6601733302911086\n",
      "1.6471930261219687\n",
      "1.6345397940483832\n",
      "1.6222007492448105\n",
      "1.610163740960248\n",
      "1.598417314241045\n",
      "1.5869506702932956\n",
      "1.5757536262898224\n",
      "1.5648165751259921\n",
      "1.5541304452631095\n",
      "1.543686660652135\n",
      "1.53347710086576\n",
      "1.5234940618839936\n",
      "1.5137302183143133\n",
      "1.5041785880293614\n",
      "1.4948325001696796\n",
      "1.485685567157053\n",
      "1.4767316608569256\n",
      "1.4679648924583737\n",
      "1.4593795951849977\n",
      "1.4509703087581722\n",
      "1.4427317646719593\n",
      "1.4346588717688704\n",
      "1.4267467021931555\n",
      "1.4189904783437124\n"
     ]
    },
    {
     "ename": "KeyboardInterrupt",
     "evalue": "",
     "output_type": "error",
     "traceback": [
      "\u001b[0;31m---------------------------------------------------------------------------\u001b[0m",
      "\u001b[0;31mKeyboardInterrupt\u001b[0m                         Traceback (most recent call last)",
      "\u001b[0;32m<ipython-input-21-60981a5f25ff>\u001b[0m in \u001b[0;36m<module>\u001b[0;34m()\u001b[0m\n\u001b[0;32m----> 1\u001b[0;31m \u001b[0mparameters\u001b[0m\u001b[0;34m=\u001b[0m\u001b[0mtrain\u001b[0m\u001b[0;34m(\u001b[0m\u001b[0;36m1\u001b[0m\u001b[0;34m,\u001b[0m \u001b[0;34m[\u001b[0m\u001b[0;36m100\u001b[0m\u001b[0;34m]\u001b[0m\u001b[0;34m,\u001b[0m \u001b[0;34m'He'\u001b[0m\u001b[0;34m,\u001b[0m \u001b[0;34m'sigmoid'\u001b[0m\u001b[0;34m,\u001b[0m \u001b[0;36m0.1\u001b[0m\u001b[0;34m)\u001b[0m\u001b[0;34m\u001b[0m\u001b[0m\n\u001b[0m",
      "\u001b[0;32m<ipython-input-14-ea2f5a467998>\u001b[0m in \u001b[0;36mtrain\u001b[0;34m(no_hd_l, hd_unit, initialization, activation, learning_rate)\u001b[0m\n\u001b[1;32m     14\u001b[0m         \u001b[0mcache1\u001b[0m\u001b[0;34m=\u001b[0m\u001b[0mfeed_forward\u001b[0m\u001b[0;34m(\u001b[0m\u001b[0mparameters\u001b[0m\u001b[0;34m,\u001b[0m \u001b[0mX_train\u001b[0m\u001b[0;34m,\u001b[0m \u001b[0mno_hd_l\u001b[0m\u001b[0;34m,\u001b[0m \u001b[0mactivation\u001b[0m\u001b[0;34m)\u001b[0m\u001b[0;34m\u001b[0m\u001b[0m\n\u001b[1;32m     15\u001b[0m         \u001b[0mprint\u001b[0m\u001b[0;34m(\u001b[0m\u001b[0mcost\u001b[0m\u001b[0;34m(\u001b[0m\u001b[0mcache1\u001b[0m\u001b[0;34m[\u001b[0m\u001b[0;34m'A'\u001b[0m\u001b[0;34m+\u001b[0m\u001b[0mstr\u001b[0m\u001b[0;34m(\u001b[0m\u001b[0mno_hd_l\u001b[0m\u001b[0;34m+\u001b[0m\u001b[0;36m1\u001b[0m\u001b[0;34m)\u001b[0m\u001b[0;34m]\u001b[0m\u001b[0;34m,\u001b[0m \u001b[0my_train\u001b[0m\u001b[0;34m,\u001b[0m \u001b[0mm\u001b[0m\u001b[0;34m)\u001b[0m\u001b[0;34m)\u001b[0m\u001b[0;34m\u001b[0m\u001b[0m\n\u001b[0;32m---> 16\u001b[0;31m         \u001b[0mback_prop\u001b[0m\u001b[0;34m(\u001b[0m\u001b[0mparameters\u001b[0m\u001b[0;34m,\u001b[0m \u001b[0mcache1\u001b[0m\u001b[0;34m,\u001b[0m \u001b[0mX_train\u001b[0m\u001b[0;34m,\u001b[0m \u001b[0my_train\u001b[0m\u001b[0;34m,\u001b[0m \u001b[0mno_hd_l\u001b[0m\u001b[0;34m,\u001b[0m \u001b[0mactivation\u001b[0m\u001b[0;34m,\u001b[0m \u001b[0mlearning_rate\u001b[0m\u001b[0;34m,\u001b[0m\u001b[0mm\u001b[0m\u001b[0;34m)\u001b[0m\u001b[0;34m\u001b[0m\u001b[0m\n\u001b[0m\u001b[1;32m     17\u001b[0m     \u001b[0;32mreturn\u001b[0m\u001b[0;34m(\u001b[0m\u001b[0mparameters\u001b[0m\u001b[0;34m)\u001b[0m\u001b[0;34m\u001b[0m\u001b[0m\n",
      "\u001b[0;32m<ipython-input-10-8011a4a904b1>\u001b[0m in \u001b[0;36mback_prop\u001b[0;34m(parameters, cache1, X_train, y_train, no_hd_l, activation, learning_rate, m)\u001b[0m\n\u001b[1;32m     33\u001b[0m             \u001b[0mi\u001b[0m\u001b[0;34m=\u001b[0m\u001b[0mi\u001b[0m\u001b[0;34m-\u001b[0m\u001b[0;36m1\u001b[0m\u001b[0;34m\u001b[0m\u001b[0m\n\u001b[1;32m     34\u001b[0m         \u001b[0mcache2\u001b[0m\u001b[0;34m[\u001b[0m\u001b[0;34m'dZ1'\u001b[0m\u001b[0;34m]\u001b[0m\u001b[0;34m=\u001b[0m\u001b[0mnp\u001b[0m\u001b[0;34m.\u001b[0m\u001b[0mmatmul\u001b[0m\u001b[0;34m(\u001b[0m\u001b[0mparameters\u001b[0m\u001b[0;34m[\u001b[0m\u001b[0;34m'W'\u001b[0m\u001b[0;34m+\u001b[0m\u001b[0mstr\u001b[0m\u001b[0;34m(\u001b[0m\u001b[0mi\u001b[0m\u001b[0;34m+\u001b[0m\u001b[0;36m1\u001b[0m\u001b[0;34m)\u001b[0m\u001b[0;34m]\u001b[0m\u001b[0;34m.\u001b[0m\u001b[0mT\u001b[0m\u001b[0;34m,\u001b[0m\u001b[0mcache2\u001b[0m\u001b[0;34m[\u001b[0m\u001b[0;34m'dZ'\u001b[0m\u001b[0;34m+\u001b[0m\u001b[0mstr\u001b[0m\u001b[0;34m(\u001b[0m\u001b[0mi\u001b[0m\u001b[0;34m+\u001b[0m\u001b[0;36m1\u001b[0m\u001b[0;34m)\u001b[0m\u001b[0;34m]\u001b[0m\u001b[0;34m)\u001b[0m\u001b[0;34m*\u001b[0m\u001b[0;34m(\u001b[0m\u001b[0mcache1\u001b[0m\u001b[0;34m[\u001b[0m\u001b[0;34m'A1'\u001b[0m\u001b[0;34m]\u001b[0m\u001b[0;34m*\u001b[0m\u001b[0mnp\u001b[0m\u001b[0;34m.\u001b[0m\u001b[0msquare\u001b[0m\u001b[0;34m(\u001b[0m\u001b[0mcache1\u001b[0m\u001b[0;34m[\u001b[0m\u001b[0;34m'A1'\u001b[0m\u001b[0;34m]\u001b[0m\u001b[0;34m)\u001b[0m\u001b[0;34m)\u001b[0m\u001b[0;34m\u001b[0m\u001b[0m\n\u001b[0;32m---> 35\u001b[0;31m         \u001b[0mcache2\u001b[0m\u001b[0;34m[\u001b[0m\u001b[0;34m'dW1'\u001b[0m\u001b[0;34m]\u001b[0m\u001b[0;34m=\u001b[0m\u001b[0mnp\u001b[0m\u001b[0;34m.\u001b[0m\u001b[0mmatmul\u001b[0m\u001b[0;34m(\u001b[0m\u001b[0mcache2\u001b[0m\u001b[0;34m[\u001b[0m\u001b[0;34m'dZ'\u001b[0m\u001b[0;34m+\u001b[0m\u001b[0mstr\u001b[0m\u001b[0;34m(\u001b[0m\u001b[0mi\u001b[0m\u001b[0;34m)\u001b[0m\u001b[0;34m]\u001b[0m\u001b[0;34m,\u001b[0m\u001b[0mX_train\u001b[0m\u001b[0;34m.\u001b[0m\u001b[0mT\u001b[0m\u001b[0;34m)\u001b[0m\u001b[0;34m\u001b[0m\u001b[0m\n\u001b[0m\u001b[1;32m     36\u001b[0m         \u001b[0mcache2\u001b[0m\u001b[0;34m[\u001b[0m\u001b[0;34m'db1'\u001b[0m\u001b[0;34m]\u001b[0m\u001b[0;34m=\u001b[0m\u001b[0mcache2\u001b[0m\u001b[0;34m[\u001b[0m\u001b[0;34m'dZ'\u001b[0m\u001b[0;34m+\u001b[0m\u001b[0mstr\u001b[0m\u001b[0;34m(\u001b[0m\u001b[0mi\u001b[0m\u001b[0;34m)\u001b[0m\u001b[0;34m]\u001b[0m\u001b[0;34m\u001b[0m\u001b[0m\n\u001b[1;32m     37\u001b[0m \u001b[0;34m\u001b[0m\u001b[0m\n",
      "\u001b[0;31mKeyboardInterrupt\u001b[0m: "
     ]
    }
   ],
   "source": [
    "parameters=train(1, [100], 'He', 'sigmoid', 0.1)"
   ]
  },
  {
   "cell_type": "code",
   "execution_count": 48,
   "metadata": {},
   "outputs": [],
   "source": [
    "df=pd.read_csv(\"MNIST dataset/train.csv\")\n",
    "X_train=np.array(df.iloc[:,1:]).T\n",
    "y_train=np.array(df.iloc[:,0])\n",
    "y_train=y_train.reshape(1,y_train.shape[0])\n",
    "y_train=one_hot(y_train) #one hot\n",
    "del df\n",
    "X_train=X_train/np.max(X_train)\n",
    "m=X_train.shape[1]"
   ]
  },
  {
   "cell_type": "code",
   "execution_count": 20,
   "metadata": {},
   "outputs": [
    {
     "data": {
      "text/plain": [
       "(100, 42000)"
      ]
     },
     "execution_count": 20,
     "metadata": {},
     "output_type": "execute_result"
    }
   ],
   "source": [
    "parameters['b1'].shape"
   ]
  },
  {
   "cell_type": "code",
   "execution_count": 51,
   "metadata": {},
   "outputs": [],
   "source": [
    "X_train=X_train[:,1]"
   ]
  },
  {
   "cell_type": "code",
   "execution_count": 56,
   "metadata": {},
   "outputs": [],
   "source": [
    "k=X_train.reshape(784,1)"
   ]
  },
  {
   "cell_type": "code",
   "execution_count": 57,
   "metadata": {},
   "outputs": [],
   "source": [
    "cache=feed_forward(parameters, k, 1, activation='relu')"
   ]
  },
  {
   "cell_type": "code",
   "execution_count": 61,
   "metadata": {},
   "outputs": [
    {
     "data": {
      "text/plain": [
       "array([1.00000000e+000, 1.18092739e-114, 1.45119260e-055, 2.05879221e-048,\n",
       "       4.66718644e-090, 3.93994330e-052, 4.13887143e-056, 1.51487185e-041,\n",
       "       3.85347659e-071, 3.09069724e-080])"
      ]
     },
     "execution_count": 61,
     "metadata": {},
     "output_type": "execute_result"
    }
   ],
   "source": [
    "cache['A2'][:,1]"
   ]
  },
  {
   "cell_type": "code",
   "execution_count": 64,
   "metadata": {},
   "outputs": [
    {
     "data": {
      "text/plain": [
       "array([1., 0., 0., 0., 0., 0., 0., 0., 0., 0.])"
      ]
     },
     "execution_count": 64,
     "metadata": {},
     "output_type": "execute_result"
    }
   ],
   "source": [
    "y_train[:,1]"
   ]
  },
  {
   "cell_type": "code",
   "execution_count": 29,
   "metadata": {},
   "outputs": [
    {
     "data": {
      "text/plain": [
       "(10, 42000)"
      ]
     },
     "execution_count": 29,
     "metadata": {},
     "output_type": "execute_result"
    }
   ],
   "source": [
    "a3.shape"
   ]
  },
  {
   "cell_type": "code",
   "execution_count": 30,
   "metadata": {},
   "outputs": [
    {
     "data": {
      "text/plain": [
       "-93.6275855105389"
      ]
     },
     "execution_count": 30,
     "metadata": {},
     "output_type": "execute_result"
    }
   ],
   "source": [
    "np.mean(np.log(a3))"
   ]
  },
  {
   "cell_type": "code",
   "execution_count": 35,
   "metadata": {},
   "outputs": [
    {
     "data": {
      "text/plain": [
       "-936.275855105389"
      ]
     },
     "execution_count": 35,
     "metadata": {},
     "output_type": "execute_result"
    }
   ],
   "source": [
    "np.sum(np.log(a3))"
   ]
  },
  {
   "cell_type": "code",
   "execution_count": 37,
   "metadata": {},
   "outputs": [
    {
     "data": {
      "text/plain": [
       "array([-320.3742967 , -249.43129893, -200.6275154 , ..., -205.64943907,\n",
       "       -215.50247646, -130.13198492])"
      ]
     },
     "execution_count": 37,
     "metadata": {},
     "output_type": "execute_result"
    }
   ],
   "source": [
    "np.min(np.log(a3),axis=0)"
   ]
  },
  {
   "cell_type": "code",
   "execution_count": 20,
   "metadata": {},
   "outputs": [
    {
     "data": {
      "text/plain": [
       "array([[-2.13884995e+00, -1.83304510e+02, -1.13283187e+02, ...,\n",
       "        -5.95625085e+01, -1.30842016e+02, -1.11185455e+02],\n",
       "       [-5.27925465e+01, -2.81982274e+02, -6.93987315e+01, ...,\n",
       "        -1.36085294e+02, -1.67524819e+02, -1.04953814e+02],\n",
       "       [-1.25326877e-01,  0.00000000e+00, -2.36667524e+01, ...,\n",
       "         0.00000000e+00, -6.49766965e+01,  0.00000000e+00],\n",
       "       ...,\n",
       "       [-8.84971322e+01, -2.69095766e+02, -1.27364478e+02, ...,\n",
       "        -1.85114422e+02, -1.66354761e+02, -1.55430867e+02],\n",
       "       [-2.01849786e+01, -3.72821305e+02, -1.28451469e+02, ...,\n",
       "        -2.20443778e+02, -1.62420445e+02, -1.29474062e+02],\n",
       "       [-9.01705653e+01, -3.26647515e+02, -2.55702711e+01, ...,\n",
       "        -1.38812370e+02, -1.49923575e+02, -1.38546675e+02]])"
      ]
     },
     "execution_count": 20,
     "metadata": {},
     "output_type": "execute_result"
    }
   ],
   "source": [
    "np.log(a3)"
   ]
  },
  {
   "cell_type": "code",
   "execution_count": 21,
   "metadata": {},
   "outputs": [
    {
     "name": "stdout",
     "output_type": "stream",
     "text": [
      "[2.46525952e-080 3.44075877e-123 1.00000000e+000 2.23592645e-107\n",
      " 4.41951705e-103 4.83279891e-092 9.68402224e-096 1.35891924e-117\n",
      " 1.21832877e-162 1.37653384e-142]\n"
     ]
    }
   ],
   "source": [
    "print(a3[:,1])"
   ]
  },
  {
   "cell_type": "code",
   "execution_count": 22,
   "metadata": {},
   "outputs": [
    {
     "name": "stdout",
     "output_type": "stream",
     "text": [
      "[1. 1. 1. ... 1. 1. 1.]\n"
     ]
    }
   ],
   "source": [
    "print(np.sum(a3,axis=0))"
   ]
  },
  {
   "cell_type": "code",
   "execution_count": 276,
   "metadata": {},
   "outputs": [],
   "source": [
    "k=np.random.randn(3,3)*10000"
   ]
  },
  {
   "cell_type": "code",
   "execution_count": 277,
   "metadata": {},
   "outputs": [],
   "source": [
    "m=np.mean(k)"
   ]
  },
  {
   "cell_type": "code",
   "execution_count": 278,
   "metadata": {},
   "outputs": [
    {
     "name": "stdout",
     "output_type": "stream",
     "text": [
      "[[14368.39345186  -794.23021787 -3908.52201022]\n",
      " [  357.56779982  4538.40048224 -7576.72308331]\n",
      " [ -496.0912204  -5096.47685493 -1392.3183472 ]]\n"
     ]
    }
   ],
   "source": [
    "print(k-m)"
   ]
  },
  {
   "cell_type": "code",
   "execution_count": null,
   "metadata": {},
   "outputs": [],
   "source": []
  }
 ],
 "metadata": {
  "kernelspec": {
   "display_name": "Python 3",
   "language": "python",
   "name": "python3"
  },
  "language_info": {
   "codemirror_mode": {
    "name": "ipython",
    "version": 3
   },
   "file_extension": ".py",
   "mimetype": "text/x-python",
   "name": "python",
   "nbconvert_exporter": "python",
   "pygments_lexer": "ipython3",
   "version": "3.6.5"
  }
 },
 "nbformat": 4,
 "nbformat_minor": 2
}
